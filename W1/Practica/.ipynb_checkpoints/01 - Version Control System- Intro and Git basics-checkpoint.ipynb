{
 "cells": [
  {
   "cell_type": "markdown",
   "metadata": {
    "deletable": true,
    "editable": true
   },
   "source": [
    "# Control de versiones\n",
    "## Git & Github\n",
    "\n",
    "<img src=\"https://imgs.xkcd.com/comics/git.png\" width=\"250\" />\n"
   ]
  },
  {
   "cell_type": "markdown",
   "metadata": {
    "deletable": true,
    "editable": true
   },
   "source": [
    "### Que es git?\n",
    "Git es una seríe de comandos que permiten guardar los cambios que se realizan en ficheros. Esto facilita el trabajo en grupo ya que permite a los distintos integrantes trabajar en el mismo proyecto de forma simultanea sin \"pisar\" el trabajo de otros.\n",
    "\n",
    "Gracias a que se van guardando todos los cambios en los ficheros, podemos restaurar versiones antiguas del proyecto, comparar, analizar, fusionar los cambios, entre otros. A este proceso se le conoce como control de versiones (Version control) y es ampliamente usado en los equipos de ingeniería de software.\n",
    "\n",
    "En esta pequeña introducción veremos los comandos más comunes y básicos que nos permetiran integrar nuestro trabajo con el del resto del equipo y, a partir de aqui, construir un conocimiento más sólido a medida que vamos avanzando."
   ]
  },
  {
   "cell_type": "markdown",
   "metadata": {},
   "source": [
    "### Que es Github?\n",
    "Hemos comentado que git es un sistema que nos permite hacer un control de versiones de nuestro codigo/proyecto. \n",
    "\n",
    "> Git es un sistema descentralizado y utiliza nuestro propio disco duro para crear un **repositorio** que contiene toda la historia de modificaciones del código.\n",
    "\n",
    "Sobre ```git``` existen varios servicios web que permiten guardar una copia en la nube de nuestro propio repositorio. Aunque existen otros, el más utilizado de forma pública es [github](https://github.com/).\n",
    "\n",
    "\n",
    "Antes de continuar, debemos tener una cuenta activa o crearnos una en este momento."
   ]
  },
  {
   "cell_type": "markdown",
   "metadata": {},
   "source": [
    "# Tutorial"
   ]
  },
  {
   "cell_type": "markdown",
   "metadata": {},
   "source": [
    "## Configurar git"
   ]
  },
  {
   "cell_type": "markdown",
   "metadata": {},
   "source": [
    "Para configurar git por primera vez abre una terminal y escribe:\n",
    "\n",
    "```bash\n",
    "git config --global user.name \"My Name\"\n",
    "git config --global user.email myEmail@example.com\n",
    "```"
   ]
  },
  {
   "cell_type": "markdown",
   "metadata": {},
   "source": [
    "## Crear un repositorio local\n"
   ]
  },
  {
   "cell_type": "markdown",
   "metadata": {},
   "source": [
    "Para crear un nuevo repositorio, creamos una carpeta nueva en la que situaremos nuestro proyecto y nos situaremos en ella.\n",
    "\n",
    "```bash\n",
    "mkdir test_repo\n",
    "cd test_repo\n",
    "```\n",
    "\n",
    "Una vez dentro de la carpeta, crearemos un fichero de texto simple. Es buena practica que el primer fichero sea un \"README.md\". Este fichero lo usaremos para ir actualizando la información de nuestro proyecto. Podemos crearlo desde el programa que más nos guste, aunque desde la terminal se puede generar uno de manera sencilla simplemente escribiendo:\n",
    "\n",
    "```bash\n",
    "echo \"# This is a title.\" >> README.md\n",
    "```\n",
    "\n",
    "Una vez creado el fichero inicializaremos el **repositorio** usando el comando:\n",
    "\n",
    "```bash\n",
    "git init\n",
    "Initialized empty Git repository in /test_repo/.git/\n",
    "```\n",
    "\n",
    "Como podéis ver, aunque tengamos el fichero \"README.md\" en la carpeta, nos dice que el repositorio está vacio. De hecho si ejecutamos:\n",
    "\n",
    "```bash\n",
    "git status\n",
    "```\n",
    "\n",
    "Nos devuelve el siguiente mensaje:\n",
    "\n",
    "```\n",
    "On branch master\n",
    "\n",
    "Initial commit\n",
    "\n",
    "Untracked files:\n",
    "  (use \"git add <file>...\" to include in what will be committed)\n",
    "\n",
    "        README.md\n",
    "```\n",
    "\n",
    "Esto se debe a que somos nosotros los que debemos indicarle que ficheros tiene que empezar a seguir y hasta que no lo hagamos los cambios que vayamos realizando al fichero no se guardaran. Fijate en que **git** ya nos da una pista de como seguir...al usar el comando ```git add FICHERO``` estamos haciendo que el fichero pase al area de ensayo o, en argot git, \"staging area\".\n",
    "\n",
    "```bash\n",
    "git add README.md\n",
    "```\n",
    "\n",
    "Vuelve a ejecutar `git status` y veras que ahora el mensaje ha cambiado. De hecho nos dice algo como:\n",
    "\n",
    "```\n",
    "On branch master\n",
    "\n",
    "Initial commit\n",
    "\n",
    "Changes to be committed:\n",
    "  (use \"git rm --cached ...\" to unstage)\n",
    "\n",
    "    new file:   README.md\n",
    "```\n",
    "\n",
    "Este nuevo mensaje nos dice que el fichero esta listo para ser \"committed\". Un \"commit\" es una copia de nuestro fichero en un momento dado del tiempo que podremos recuperar siempre que queramos. Para crear un \"commit nuevo\" necesitamos que al menos un fichero este modificado en el area de \"stage\".\n",
    "\n",
    "Para hacerlo, simplemente tenemos que ejecutar:\n",
    "\n",
    "```bash\n",
    "git commit -m \"Este es el primer commit. Añade el fichero README.md\"\n",
    "```\n",
    "\n",
    "Para ver la lista de commits, ejecuta:\n",
    "\n",
    "```bash\n",
    "git log\n",
    "```"
   ]
  },
  {
   "cell_type": "markdown",
   "metadata": {},
   "source": [
    "## Sincronizar el repositorio local con Github"
   ]
  },
  {
   "cell_type": "markdown",
   "metadata": {},
   "source": [
    "Una vez creado el repositorio en local, podemos sincronizarlo con uno en nuestro  \"hub\" de elección.\n",
    "\n",
    "Para poder enviar nuestro \"repo\" al hub, primero debemos crear un proyecto nuevo. Ves a [github](https://github.com/), entra con tu usuario y contraseña y crea un proyecto nuevo.\n",
    "\n",
    "Una vez creado, obtendremos una url tal que:\n",
    "\n",
    "> https://github.com/nombreusuario/nombre_repo.git\n",
    "\n",
    "Con esta url podemos decirle a nuestro repositorio local que apunte a este repositorio remoto con el comando:\n",
    "\n",
    "```bash\n",
    "git remote add origin https://github.com/nombreusuario/nombre_repo.git\n",
    "```\n",
    "\n",
    "Donde ```origin``` es el nombre del repositorio remoto principal.\n",
    "\n",
    "Finalmente, podemos publicar nuestros cambios en el repositorio remoto. Es buena practica indicar el nombre del repositorio y a la rama que queremos enviarlo mediante:\n",
    "\n",
    "```bash\n",
    "git push origin master\n",
    "```"
   ]
  },
  {
   "cell_type": "markdown",
   "metadata": {},
   "source": [
    "### Sincronizar los repositorios\n",
    "Si trabajamos en paralelo con otras personas, es posible que a la hora de querer publicar un cambio que hayamos hecho pisemos el trabajo de otra persona. Es obligatorio actualizar nuestro repositorio local con el remoto antes de hacer un \"push\" con nuestros cambios a fin de evitar pisar los cambios que haya hecho otra persona. Esto puede generarnos \"conflictos\" que tendremos que solucionar en nuestro local a fin de integrar nuestros cambios con los de los demás. Una vez solucionados los conflictos, podremos hacer \"push\" tranquilaente.\n",
    "\n",
    "Finalmente, el workflow típico de git una vez hayamos modificado algún fichero se puede resumir en:\n",
    "\n",
    "```bash\n",
    "git add FICHEROS  # añadir a la fase de \"stage\" los ficheros modificados\n",
    "git commit -m \"Pequeña descripción de los cambios\" # Crear un commit para los cambios\n",
    "git pull origin master # actualizar desde el repositorio origin y la rama master del servidor\n",
    "git push origin master # publicar al repositorio origin y la rama master del servidor una vez solucionados los conflictos\n",
    "```\n"
   ]
  },
  {
   "cell_type": "markdown",
   "metadata": {},
   "source": [
    "## Ramas\n",
    "\n",
    "Si queremos crear lineas independientes de desarrollo para poder trabajar en paralelo debemos usar ramas. Esto nos permite crear nuevas funcionalidades o modificar las existentes sin interferir en la rama \"master\".\n",
    "\n",
    "Para crear una nueva rama desde el una existente (normalmente ```master```) ejecutamos:\n",
    "\n",
    "```bash\n",
    "git checkout -b newBranch master\n",
    "```\n",
    "\n",
    "Comprobamos que estamos en la rama \"newBranch\" con el comando:\n",
    "\n",
    "```bash\n",
    "git branch\n",
    "```\n",
    "\n",
    "A partir de aquí todas las modificaciones que hagamos se harán sobre la rama \"newBranch\". Vamos a insertar un nuevo fichero y guardarlo en la fase de stage haciendo \"commit\"\n",
    "\n",
    "```bash\n",
    "echo \"# Hello\" >> NewReadme.md\n",
    "git add NewReadme.md\n",
    "git commit -m \"Nuevo Readme añadido en la rama newBranch\"\n",
    "```\n",
    "\n",
    "Al terminar hacemos push para subir los cambios al servidor remoto. Especial atención a la sintaxis, donde se especifica el nombre de la rama 'newBranch' en vez de 'master'\n",
    "\n",
    "```bash\n",
    "git push origin newBranch\n",
    "```\n",
    "\n",
    "Antes de continuar, si listamos los ficheros haciendo `ls` en la terminal vemos que nos aparecen los dos ficheros. \n",
    "\n",
    "Ahora, si queremos integrar los cambios de la rama auxiliar a la principal, debemos situarnos en la rama 'master' otra vez. Para ello ejecutamos:\n",
    "\n",
    "```bash\n",
    "git checkout master\n",
    "```\n",
    "Y comprobamos que estamos sobre la rama \"master\" usango otra vez:\n",
    "\n",
    "```bash\n",
    "git branch\n",
    "```\n",
    "\n",
    "Pregunta: Que pasa si listamos los ficheros otra vez? Notas algo raro? En efecto, al pasar otra vez a la rama 'master' el fichero nuevo no aparece en el listado. Esto es debido a que sigue en la rama \"newBranch\", que es independiente de la de \"master\". Para fusionar las dos ramas usamos el comando:\n",
    "\n",
    "```bash\n",
    "git merge newBranch\n",
    "```\n",
    "\n",
    "Que nos fusionará la rama newBranch a la rama en la que nos encontramos, en este caso 'master'.\n",
    "\n",
    "Finalmente si queremos eliminar la rama 'newBranch', ejecutamos:\n",
    "\n",
    "```bash\n",
    "git branch -d new-feature\n",
    "```"
   ]
  },
  {
   "cell_type": "markdown",
   "metadata": {},
   "source": [
    "## Ventajas de github\n",
    "### Clone\n",
    "Git permite clonar una copia de un repositorio ajeno en nuestro entorno local para poder experimentar con el proyecto. Sin embargo, no podremos hacer \"push\" sobre el proyecto, ya que no es nuestro.\n",
    "\n",
    "En caso de que queramos cambiar el repositorio original por el que hayamos creado en nuestro Github y ejecutar el siguiente comando.\n",
    "\n",
    "```bash\n",
    "git remote set-url origin https://github.com/nombreusuario/nuevo_repo.git\n",
    "```\n",
    "\n",
    "### Fork\n",
    "Hacer \"fork\" sobre un repositorio crea una copia del trabajo de una tercera persona/equipo en nuestro servidor y permite experimentar con el codigo ajeno de forma completamente libre sin afectar al proyecto original. Permite poder proponer mejoras a un proyecto existente o usar ese proyecto como punto de partida para tu propia idea. Despues de hacer un \"fork\" podemos clonar el repositorio desde la url con nuestro nombre de usuario.\n",
    "\n",
    "#### Pull request\n",
    "Si hacemos una contribución a algún proyecto y queremos que los creadores originales la tengan en cuenta y nos reconozcan como contribuyentes al proyecto, podemos enviar un \"pull request\" que sera aceptada o no para que forme parte del proyecto original.\n",
    "\n",
    "[Fork example](https://help.github.com/articles/fork-a-repo/)"
   ]
  },
  {
   "cell_type": "markdown",
   "metadata": {},
   "source": [
    "# Recapitulando\n",
    "En está primera sesión hemos visto:\n",
    "\n",
    "1. Que es el control de versiones y que son los repositorios git locales y remotos (github, ...).\n",
    "2. Como crear un repositorio local y tratar los archivos de forma que se haga un seguimiento de los cambios con una conexión al servidor remoto\n",
    "3. Como crear ramas para modificar los archivos y luego fusionarlos a la rama principal de trabajo\n",
    "\n",
    "Utils:\n",
    "\n",
    "[Git Cheatsheet](https://services.github.com/on-demand/downloads/github-git-cheat-sheet.pdf)\n",
    "\n",
    "[Tutorial online - Atlassian (bitbucket)](https://www.atlassian.com/git)\n",
    "\n",
    "[Tutorial online - Atlassian (bitbucket)](https://try.github.io/)"
   ]
  },
  {
   "cell_type": "markdown",
   "metadata": {},
   "source": [
    "\n"
   ]
  },
  {
   "cell_type": "markdown",
   "metadata": {},
   "source": [
    " "
   ]
  },
  {
   "cell_type": "markdown",
   "metadata": {},
   "source": [
    "\n"
   ]
  }
 ],
 "metadata": {
  "kernelspec": {
   "display_name": "Python 3",
   "language": "python",
   "name": "python3"
  },
  "language_info": {
   "codemirror_mode": {
    "name": "ipython",
    "version": 3
   },
   "file_extension": ".py",
   "mimetype": "text/x-python",
   "name": "python",
   "nbconvert_exporter": "python",
   "pygments_lexer": "ipython3",
   "version": "3.7.3"
  }
 },
 "nbformat": 4,
 "nbformat_minor": 4
}
