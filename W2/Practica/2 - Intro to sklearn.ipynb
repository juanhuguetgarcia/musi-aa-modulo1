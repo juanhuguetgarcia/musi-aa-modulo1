{
 "cells": [
  {
   "cell_type": "markdown",
   "metadata": {},
   "source": [
    "# Introducción al machine learning con python: sklearn\n",
    "---\n",
    "\n",
    "<div class=\"panel panel-success\">\n",
    "    <div class='panel-heading'>\n",
    "    <h4>Empecemos</h4>\n",
    "    </div>\n",
    "    <div class='panel-body'>\n",
    "    <ol type=\"A\">\n",
    "    <li>sklearn</li>\n",
    "    <li>Example: LinearRegresion</li>\n",
    "</ol>\n",
    "    \n",
    "</div>\n",
    "</div>\n"
   ]
  },
  {
   "cell_type": "markdown",
   "metadata": {},
   "source": [
    "# scikit learn\n",
    "\n",
    "![img/sklearn.png](img/sklearn.png)\n",
    "\n",
    "SKlearn es la librería de facto para construir modelos de ML en python. Poseé una arquitectura intuitiva y generalizada a todos los tipos de modelos. Además, incluye una serie de herramientas que nos ayudarán no solo a entrenar y ejecutar modelos, si no también a seleccionarlos, trabajar las variables, y evaluar la eficiencia de nuestros sistemas de ML.\n",
    "\n",
    "Según su descripción en la página web:\n",
    "\n",
    "* Simple and efficient tools for data mining and data analysis\n",
    "* Accessible to everybody, and reusable in various contexts\n",
    "* Built on NumPy, SciPy, and matplotlib\n"
   ]
  },
  {
   "cell_type": "markdown",
   "metadata": {},
   "source": [
    "# Ejemplo básico\n",
    "\n",
    "Antes de empezar a usarla, deberemos importar la libreria. Por convención, se utilizará la fuente entera y el modulo a cargar. Por ejemplo, si queremos cargar un arbol de decisión, deberíamos ejecutar:\n",
    "\n",
    "```python\n",
    "from sklearn.tree import DecisionTreeClassifier\n",
    "```\n",
    "\n",
    "El número de modelos de ML, así como las distintas funcionalidades auxiliares son muy extensas. Por suerte, la documentación de sklearn es muy completa y explicativa, por lo que una busqueda rápida en google sobre la libreria que buscamos debería bastar para encontrarlo."
   ]
  },
  {
   "cell_type": "markdown",
   "metadata": {},
   "source": [
    "Sklearn visual map"
   ]
  },
  {
   "cell_type": "markdown",
   "metadata": {},
   "source": [
    "[https://scikit-learn.org/stable/tutorial/machine_learning_map/index.html](https://scikit-learn.org/stable/tutorial/machine_learning_map/index.html)"
   ]
  },
  {
   "cell_type": "markdown",
   "metadata": {},
   "source": [
    "### Ejercicio 0: Carga las librerías básicas para crear un entorno de analisis de datos"
   ]
  },
  {
   "cell_type": "code",
   "execution_count": null,
   "metadata": {},
   "outputs": [],
   "source": [
    "%matplotlib inline\n",
    "\n",
    "import pandas as ###\n",
    "import numpy as ###\n",
    "import seaborn as ###\n",
    "import matplotlib.pyplot as ###"
   ]
  },
  {
   "cell_type": "code",
   "execution_count": null,
   "metadata": {},
   "outputs": [],
   "source": [
    "sns.set_style('darkgrid')\n",
    "sns.set_context('notebook')"
   ]
  },
  {
   "cell_type": "markdown",
   "metadata": {},
   "source": [
    "En este ejemplo, empezaremos por ver como crear un clasificador binario"
   ]
  },
  {
   "cell_type": "markdown",
   "metadata": {},
   "source": [
    "### Ejercicio 1: Carga los datos en un dataframe.\n"
   ]
  },
  {
   "cell_type": "code",
   "execution_count": null,
   "metadata": {},
   "outputs": [],
   "source": [
    "pima_diabetes_data_file_path = 'data/pima-indians-diabetes.data'\n",
    "\n",
    "df = pd.read_csv(###, header=None)"
   ]
  },
  {
   "cell_type": "code",
   "execution_count": null,
   "metadata": {},
   "outputs": [],
   "source": [
    "columns = ['times_pregnant', 'glucosa', 'presion', 'skinfold', 'insulina', 'bmi', 'pedigree', 'edad', 'diabetes']\n",
    "df.columns = ###"
   ]
  },
  {
   "cell_type": "code",
   "execution_count": null,
   "metadata": {},
   "outputs": [],
   "source": [
    " df.head()"
   ]
  },
  {
   "cell_type": "markdown",
   "metadata": {},
   "source": [
    "### Ejercicio 2: Genera los descriptivos básicos e intenta contestar a:\n",
    "\n",
    "1. Es un problema desbalanceado?\n",
    "1. Existen valores nulos?\n",
    "1. Existen outliers?"
   ]
  },
  {
   "cell_type": "code",
   "execution_count": null,
   "metadata": {},
   "outputs": [],
   "source": [
    "### Haz un describe sobre el dataframe\n"
   ]
  },
  {
   "cell_type": "markdown",
   "metadata": {},
   "source": [
    "### Ejercicio 3\n",
    "\n",
    "Divide los datos en dos partes, df_train y df_test con el 80% y el 20% de los datos repartidos de forma aleatoria.\n",
    "\n",
    "### Por qué hacemos esto?"
   ]
  },
  {
   "cell_type": "code",
   "execution_count": null,
   "metadata": {},
   "outputs": [],
   "source": [
    "### Mezcla el dataframe y utiliza una random_seed = 42\n",
    "df = ###\n",
    "\n",
    "\n",
    "### Cuanto es el 80% de los datos?\n",
    "train_size = int( ### *df.shape[0])\n",
    "\n",
    "\n",
    "### Crea una df_train y el df_test a partir del resultado anterior y el metodo .loc[]\n",
    "df_train = df.loc[:###]\n",
    "df_test = df.loc[###:]"
   ]
  },
  {
   "cell_type": "markdown",
   "metadata": {},
   "source": [
    "### Ejercicio 3: Carga la libreria de sklearn que permite entrenar una regresión lineal.\n",
    "\n",
    "Instancia el modelo bajo el nombre `reg_lr`"
   ]
  },
  {
   "cell_type": "code",
   "execution_count": null,
   "metadata": {},
   "outputs": [],
   "source": [
    "from sklearn.linear_model import ###\n",
    "\n",
    "reg_lr = ###"
   ]
  },
  {
   "cell_type": "markdown",
   "metadata": {},
   "source": [
    "### Ejercicio 4: Entrena el modelo y evalualo con el dataframe de test"
   ]
  },
  {
   "cell_type": "code",
   "execution_count": null,
   "metadata": {},
   "outputs": [],
   "source": [
    "## dropea la variable 'diabetes' en el eje 1 del dataframe y guardalo en X_train\n",
    "X_train = ###\n",
    "\n",
    "y_train = ###"
   ]
  },
  {
   "cell_type": "markdown",
   "metadata": {},
   "source": [
    "##### Entrena el modelo utilizando sólo una variable"
   ]
  },
  {
   "cell_type": "code",
   "execution_count": null,
   "metadata": {},
   "outputs": [],
   "source": [
    "predictor_var = 'edad'"
   ]
  },
  {
   "cell_type": "code",
   "execution_count": null,
   "metadata": {},
   "outputs": [],
   "source": [
    "reg_lr.fit(###, ###)"
   ]
  },
  {
   "cell_type": "code",
   "execution_count": null,
   "metadata": {},
   "outputs": [],
   "source": [
    "reg_lr.coef_"
   ]
  },
  {
   "cell_type": "markdown",
   "metadata": {},
   "source": [
    "##### Teste el rendimiento del modelo en el subset de testeo"
   ]
  },
  {
   "cell_type": "code",
   "execution_count": null,
   "metadata": {},
   "outputs": [],
   "source": [
    "X_test = df_test.drop('diabetes', axis=1)\n",
    "y_test = df_test['diabetes']\n",
    "\n",
    "reg_lr.score(X_test[[predictor_var]], y_test)"
   ]
  },
  {
   "cell_type": "markdown",
   "metadata": {},
   "source": [
    "## Genera predicciones para un rango posible de la variable independiente"
   ]
  },
  {
   "cell_type": "code",
   "execution_count": null,
   "metadata": {},
   "outputs": [],
   "source": [
    "### min - 2*std\n",
    "### mas + 2*std\n",
    "x_min = int(df[predictor_var]### - 2*df[predictor_var].std())\n",
    "x_max = int(df[predictor_var].max() + 2*df[predictor_var].std())\n",
    "\n",
    "## Composición del rango (tenemos que darle las dimensiones correctas al vector, n_filas x 1 columna)\n",
    "X_for_plot = np.linspace(x_min, x_max).reshape(-1, 1)\n",
    "\n",
    "### Obtener predicciones\n",
    "y_hat = reg_lr.predict(###)"
   ]
  },
  {
   "cell_type": "markdown",
   "metadata": {},
   "source": [
    "> Nota\n",
    ">\n",
    "> Los clasificadores pueden tener el metodo `model.predict_proba()` que nos devolveran la probabilidad de pertenecer a cada una de las clases."
   ]
  },
  {
   "cell_type": "code",
   "execution_count": null,
   "metadata": {},
   "outputs": [],
   "source": [
    "#y_hat = reg_lr.predict_proba(X_for_plot)[:, 1]"
   ]
  },
  {
   "cell_type": "markdown",
   "metadata": {},
   "source": [
    "## Plotea los resultados"
   ]
  },
  {
   "cell_type": "code",
   "execution_count": null,
   "metadata": {},
   "outputs": [],
   "source": [
    "plt.scatter(X_train[predictor_var], y_train, alpha=0.5)\n",
    "plt.scatter(X_test[predictor_var], y_test)\n",
    "plt.scatter(X_for_plot, y_hat )"
   ]
  },
  {
   "cell_type": "markdown",
   "metadata": {},
   "source": [
    "## Por qué no podemos usar una regresión lineal como clasificador ?\n",
    "\n",
    "Repite el entrenamiento usando una regresión logística (clasificador lineal)"
   ]
  }
 ],
 "metadata": {
  "kernelspec": {
   "display_name": "Py37 (ds-uib)",
   "language": "python",
   "name": "ds-uib"
  },
  "language_info": {
   "codemirror_mode": {
    "name": "ipython",
    "version": 3
   },
   "file_extension": ".py",
   "mimetype": "text/x-python",
   "name": "python",
   "nbconvert_exporter": "python",
   "pygments_lexer": "ipython3",
   "version": "3.7.9"
  }
 },
 "nbformat": 4,
 "nbformat_minor": 4
}
