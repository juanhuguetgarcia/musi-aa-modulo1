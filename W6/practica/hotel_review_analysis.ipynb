{
 "cells": [
  {
   "cell_type": "markdown",
   "id": "053e8d41",
   "metadata": {},
   "source": [
    "# Intro to ML"
   ]
  },
  {
   "cell_type": "markdown",
   "id": "286583ad",
   "metadata": {},
   "source": [
    "La práctica de hoy consiste en un simulacro de como empezar un proyecto de analítica / Machine Learning desde el principio.\n",
    "\n",
    "Cómo hemos comentado en clases anteriores, el primer paso, antes incluso que ponerse a analizar el dataset, es plantearse la estrategía a seguir o como plasmar un problema de negocio en un problema de datos.\n",
    "\n",
    "Nuestro cliente, una importante hotelera mallorquina (oh, sorpresa). No tiene muy claro que es lo que quiere, simplemente sabe que todo el mundo usa IA actualmente y no quiere quedarse atrás. Hablando con ellos, hemos accedido a hacer una propuesta para ayudarles a entender que valor podrían extraer del análisis de datos / modelización. Por el momento, sabemos que están preocupados por la reputación de sus hoteles y que les interesa saber que motiva que un cliente deje una buena review.\n",
    "\n",
    "Para tal proposito, disponemos de un dataset con reviews de hoteles en Europa. El dataset se encuentra en la carpeta `data` junto con una descripción de los campos disponibles."
   ]
  },
  {
   "cell_type": "markdown",
   "id": "90de4743",
   "metadata": {},
   "source": [
    "## Trabajo por equipos"
   ]
  },
  {
   "cell_type": "markdown",
   "id": "bae0d759",
   "metadata": {},
   "source": [
    "#### 1. Revisa el fichero `data_format.txt` para saber que variables tenemos disponibles. A partir de las variables, plantea al menos 3 preguntas que te permitan entender el dataset: por ejemplo:\n",
    "\n",
    "> Cómo varía la puntuación media de un hotel a lo largo del tiempo ?\n",
    "\n",
    "1. Vemos que tenemos una variable temporal `review_date` disponible. Plantea cómo podríamos transformar esta variable de forma que pueda aportar valor a la modelizción. Piensa que en un contexto de turismo la estacionalidad es un factor muy importante.\n",
    "\n",
    "1. Vemos que de todas las variables que tenemos, 3 son texto (2 texto libre y 1 tags). Piensa como vas a tratar esas variables. (Nota: muchas veces nos sabremos de antemano cómo tratar una transformación de un tipo de dato. Usar google es legal.)\n",
    "\n",
    "1. Vemos que como variable numéricas tenemos la Lat/Long. Cómo podríamos usarla ? Que tipo de nuevas features se podrían calcular a partir de ellas que nos aporten informacion ?\n",
    "\n",
    "1. Si queremos saber que afecta a una review positiva/negativa, como podríamos reducir el problema de ML supervisado ? Preferímos regresion o clasificacion?\n",
    "\n"
   ]
  },
  {
   "cell_type": "markdown",
   "id": "5a25e7b2",
   "metadata": {},
   "source": [
    "## Trabajo entregable"
   ]
  },
  {
   "cell_type": "markdown",
   "id": "0c716115",
   "metadata": {},
   "source": [
    "**Ahora que más o menos tenemos una idea inicial de como tratar el dataset...**\n",
    "\n",
    "NOTA: el objetivo es ver que sabemos usar los pipelines de sklear. No nos volvamos locos con hacer un trabajo completo.\n",
    "\n",
    "1. Carga las librerías básicas para el analisis de datos\n",
    "1. Realiza una limpieza no exhaustiva de los datos\n",
    "1. Separa los datos en train y test. OJO: no queremos filtrar información! Hay que pensar bien como queremos hacer la separación...\n",
    "1. Plantea una primera aproximación utilizando un modelo lineal y dibuja una arquitectura de cómo quedaría el `pipeline` de transformación + modelización tipo el mostrado en la clase práctiva de la W5\n",
    "1. Entrena el modelo y revisa las variables/palabras que son sido más importantes.\n",
    "1. Cuentale al cliente un mensaje clave sobre que tipo de cosas tienen más en cuenta los clientes: `Si no quieres una mala review no sirvas comida fría`"
   ]
  }
 ],
 "metadata": {
  "kernelspec": {
   "display_name": "uib",
   "language": "python",
   "name": "uib"
  },
  "language_info": {
   "codemirror_mode": {
    "name": "ipython",
    "version": 3
   },
   "file_extension": ".py",
   "mimetype": "text/x-python",
   "name": "python",
   "nbconvert_exporter": "python",
   "pygments_lexer": "ipython3",
   "version": "3.9.7"
  }
 },
 "nbformat": 4,
 "nbformat_minor": 5
}
