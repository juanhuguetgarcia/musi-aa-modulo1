{
 "cells": [
  {
   "cell_type": "markdown",
   "metadata": {},
   "source": [
    "# Entornos virtuales: Entornos de desarrollo reproducibles"
   ]
  },
  {
   "cell_type": "markdown",
   "metadata": {},
   "source": [
    "Uno de los principales problemas que pueden surgir al trabajar con `python` es la incompatibilidad entre algunas de las librerías que tengamos previamente instaladas y las nuevas que vayamos instalando.\n",
    "\n",
    "Esto puede llegar a provocar el conocido sindromde de \"En mi ordenador funciona\" al intentar trabajar con otras personas.\n",
    "\n",
    "Con tal de mantener los distintos proyectos de forma limpia y ordenada, lo mejor es trabajar **siempre** con entornos virtuales.\n",
    "\n",
    "Dicho de forma sencilla, un entorno virtual es una copía aislada y funcional de `python` que permite trabajar en proyectos específicos sin tener que preocuparse de que las librerías que necesitamos para un proyecto nos afecten al actual."
   ]
  },
  {
   "cell_type": "markdown",
   "metadata": {},
   "source": [
    "![image](https://imgs.xkcd.com/comics/python_environment.png )"
   ]
  },
  {
   "cell_type": "markdown",
   "metadata": {},
   "source": [
    "## Cómo usar los entornos virtuales\n",
    "\n",
    "### Crear un entorno\n",
    "\n",
    "Partiremos de la base de que estamos trabajando usando la distribución de `python` que viene con `Anaconda`. Esta distribución viene integrada con un gestor de entornos virtuales que facilitan su uso.\n",
    "\n",
    "Para crear un entorno virtual simplemente tendremos que ejecutar el comando:\n",
    "\n",
    "```\n",
    "conda create env --name mientorno\n",
    "```\n",
    "\n",
    "Por defecto, utilizará la misma version de `python` que tengamos instalada por defecto en el sistema.\n",
    "\n",
    "> Recordad que la versión 2.7 no tiene soporte\n",
    "\n",
    "Si aún así necesitaís especificar una versión en concreto de `python`, simplemente el comando cambia a:\n",
    "\n",
    "```\n",
    "conda create env --name mientorno python=2.7\n",
    "```\n",
    "\n",
    "### Usar un entorno\n",
    "\n",
    "#### Activarlo\n",
    "\n",
    "Una vez creado el entorno, para activarlo utilizaremos el comando:\n",
    "\n",
    "```\n",
    "source activate mientorno\n",
    "``` \n",
    "\n",
    "y veremos como el nombre del entorno aparece entre paréntesis en la lina de comandos de la terminal:\n",
    "\n",
    "```\n",
    "(mientorno) usuario@home:~$/\n",
    "```\n",
    "\n",
    "#### Instalar paquetes\n",
    "\n",
    "Una vez dentro del entorno podremos instalar paquetes usando las herramientas de anaconda y, en caso de que no esté disponible, `pip`:\n",
    "\n",
    "* Primero probar: `conda install paquete`\n",
    "* Si no, probar con: `conda install -c conda-forge paquete`\n",
    "* Por último, probar con: `pip install paquete`\n",
    "\n",
    "> Para saber si `pip` está utilizandose dentro del entorno: `which pip` en la terminal os dará información de qué `pip` se está usando \n",
    "\n",
    "### Compartir un entorno\n",
    "\n",
    "Finalmente, si queremos compartir el entorno para que otra persona pueda utilizar las mismas especificaciones que las nuestras para poder usar nuestro código, podremos compartirle un fichero que podra usar para crear un entorno igual que el nuestro desde el fichero.\n",
    "\n",
    "#### Exportar un entorno\n",
    "\n",
    "Estando con el entorno activo, ejecutamos:\n",
    "\n",
    "```\n",
    "conda env export > mientorno.yml\n",
    "```\n",
    "\n",
    "y, finalmente, si hemos recibido un entorno, podremos instalarlo en nuestra máquina mediante:\n",
    "\n",
    "```\n",
    "coda env create --file mientorno.yml\n",
    "```\n"
   ]
  },
  {
   "cell_type": "markdown",
   "metadata": {},
   "source": [
    "## Mostrar un entorno en el entorno de jupyter\n",
    "\n",
    "Una vez tenemos el entorno con las librerias necesarias, vamos a activarlo con tal de que se pueda mostrar en el enrono de trabajo de `jupyter`\n",
    "\n",
    "```bash\n",
    "source activate myenv\n",
    "conda install ipykernel\n",
    "python -m ipykernel install --user --name myenv --display-name \"Python (myenv)\"\n",
    "```"
   ]
  },
  {
   "cell_type": "markdown",
   "metadata": {},
   "source": [
    "---"
   ]
  }
 ],
 "metadata": {
  "kernelspec": {
   "display_name": "Python 3",
   "language": "python",
   "name": "python3"
  },
  "language_info": {
   "codemirror_mode": {
    "name": "ipython",
    "version": 3
   },
   "file_extension": ".py",
   "mimetype": "text/x-python",
   "name": "python",
   "nbconvert_exporter": "python",
   "pygments_lexer": "ipython3",
   "version": "3.7.3"
  }
 },
 "nbformat": 4,
 "nbformat_minor": 4
}
