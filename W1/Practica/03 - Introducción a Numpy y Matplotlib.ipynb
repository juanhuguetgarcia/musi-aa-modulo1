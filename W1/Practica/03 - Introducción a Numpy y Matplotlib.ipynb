{
 "cells": [
  {
   "cell_type": "markdown",
   "metadata": {},
   "source": [
    "# Introducción a Numpy y Matplotlib"
   ]
  },
  {
   "cell_type": "markdown",
   "metadata": {},
   "source": [
    "![img/3-numpy/numpy_logo.jpg](img/3-numpy/numpy_logo.jpg)\n",
    "\n",
    "# Que es numpy?\n",
    "\n",
    "En la sesión anterior vimos que una de las estrucutras de datos fundamentales en python son las listas. A pesar de ser un elemento muy útil en el mundo de la programación, esta estructura de datos es ineficiente cuando queremos considerar estas listas como vectores.\n",
    "\n",
    "Por ejemplo,\n",
    "\n",
    "```python\n",
    "\n",
    "lista_1 = [1, 2, 3]\n",
    "lista_2 = [2, 3, 4]\n",
    "\n",
    "suma_lista_1_2 = lista_1 + lista_2\n",
    "\n",
    "print(suma_lista)\n",
    "\n",
    "# output\n",
    "[1, 2, 3, 2, 3, 4]\n",
    "```\n",
    "\n",
    "Si quisieramos sumar elemento a elemento, deberíamos crearnos una función con bucles que nos devolviese el vector resultante."
   ]
  },
  {
   "cell_type": "code",
   "execution_count": 1,
   "metadata": {},
   "outputs": [],
   "source": [
    "## Escribe una función que dadas dos listas nos\n",
    "## devuelva la suma elemento a elemento.\n",
    "## Ojo! Acuerdate de comprobar que son del mismo tamaño!\n",
    "\n",
    "def suma_dos_listas_elemento_a_elemento(a, b):\n",
    "    \"\"\"\n",
    "    Suma las dos listas a y b\n",
    "    \"\"\"\n",
    "    suma = []\n",
    "    if len(a) == len(b):\n",
    "        for idx in range(len(a)):\n",
    "            suma.append(a[idx] + b[idx])\n",
    "    else:\n",
    "        print( \"el tamaño de las listas debería ser el mismo\")\n",
    "    return suma\n",
    "            \n",
    "\n",
    "##Extra: Echale un vistazo a la funcion zip() de python.\n",
    "##Usando zip y las list comprehensions podemos reescribir\n",
    "##la función en una linea de forma pythonica!\n"
   ]
  },
  {
   "cell_type": "code",
   "execution_count": 2,
   "metadata": {},
   "outputs": [],
   "source": [
    "a = [1, 2, 3] * 100000\n",
    "b = [2, 3, 4] * 100000"
   ]
  },
  {
   "cell_type": "code",
   "execution_count": 3,
   "metadata": {},
   "outputs": [
    {
     "name": "stdout",
     "output_type": "stream",
     "text": [
      "32.1 ms ± 560 µs per loop (mean ± std. dev. of 7 runs, 10 loops each)\n"
     ]
    }
   ],
   "source": [
    "%timeit suma_a_b = suma_dos_listas_elemento_a_elemento(a, b)"
   ]
  },
  {
   "cell_type": "code",
   "execution_count": 4,
   "metadata": {},
   "outputs": [
    {
     "name": "stdout",
     "output_type": "stream",
     "text": [
      "14.2 ms ± 214 µs per loop (mean ± std. dev. of 7 runs, 100 loops each)\n"
     ]
    }
   ],
   "source": [
    "%timeit [x + y for x, y  in zip(a,b)]"
   ]
  },
  {
   "cell_type": "markdown",
   "metadata": {},
   "source": [
    "Como veis en el ejemplo anterior, no solo es innecesariamente complicado si no que es ineficiente cuando queremos tratar con vectores de gran tamaño. Sería conveniente tener operaciones definidas para este tipo de problemas.\n",
    "\n",
    "Eso es exactamente lo que hace **Numpy**. Interpreta las listas como vectores numéricos y nos permite realizar operaciones de algebra lineal de forma eficiente.\n",
    "\n",
    "Por si no fuera poco, **Numpy** está escrito en **C**, uno de los lenguajes de programación más [rápidos](https://attractivechaos.github.io/plb/). Además de proporcionarnos velocidad a la hora de realizar cálculos algebráicos, sirve cómo interfaz para comunicarse con funcionalidades escritas en **C** y en **Fortran**. Ésta es la razón principal por la **Numpy** nos importa cómo analistas o cientificos de datos, aunque no trabajemos directamente en algebra: los principales módulos para el análisis de datos (pandas y sklearn) se basan en **Numpy**, por lo que entender su estructura y uso nos facilitara la comprensión de las librerias de más alto nivel.\n",
    "\n"
   ]
  },
  {
   "cell_type": "code",
   "execution_count": 5,
   "metadata": {},
   "outputs": [],
   "source": [
    "## importar numpy bajo el alias np\n",
    "\n",
    "import numpy as np"
   ]
  },
  {
   "cell_type": "markdown",
   "metadata": {},
   "source": [
    "## `np.array` y `np.ndarray`\n",
    "\n",
    "### `np.ndarray`\n",
    "\n",
    "De la [documentación](https://docs.scipy.org/doc/numpy-1.13.0/reference/arrays.html) oficial:\n",
    "\n",
    ">  Describes an N-dimensional collection of “items” of the same type.\n",
    "\n",
    "### `np.array`\n",
    "\n",
    "Es un metodo de numpy que nos permite crear np.ndarray\n"
   ]
  },
  {
   "cell_type": "markdown",
   "metadata": {},
   "source": [
    "### Crear un array a partir de listas\n",
    "\n",
    "Para crear un array a partir de una lista, simplemente debemos pasar la lista como argumento a la función np.array()\n",
    "\n",
    "```python\n",
    "\n",
    "mi_lista = [1, 2, 3]\n",
    "\n",
    "mi_array = np.array(mi_lista)\n",
    "\n",
    "print(type(mi_array))\n",
    "```\n",
    "\n",
    "También, podemos crear un array a partir de una lista de listas.\n",
    "\n",
    "```python\n",
    "\n",
    "mi_lista_anidada = [[1, 2, 3],\n",
    "                    [4, 5, 6]]\n",
    "\n",
    "mi_array_2d = np.array(mi_lista_anidada)\n",
    "```\n",
    "                   "
   ]
  },
  {
   "cell_type": "code",
   "execution_count": 6,
   "metadata": {},
   "outputs": [],
   "source": [
    "## Crea un ndarray a partir de una lista anidada\n",
    "mi_lista = [1, 2, 3]\n",
    "\n",
    "mi_lista_anidada = [[1, 2, 3],\n",
    "                    [4, 5, 6]]\n",
    "\n",
    "array_1D = np.array(mi_lista)\n",
    "\n",
    "array_2D = np.array(mi_lista_anidada)"
   ]
  },
  {
   "cell_type": "markdown",
   "metadata": {},
   "source": [
    "## Atributos de np.ndarray\n",
    "\n",
    "Cada array tiene los atributos:\n",
    "\n",
    "* `ndim`: el número de dimensionesthe number of dimensiones\n",
    "* `shape`: el tamaño de cada dimensión\n",
    "* `size`: el tamaño total del array"
   ]
  },
  {
   "cell_type": "code",
   "execution_count": 7,
   "metadata": {},
   "outputs": [
    {
     "data": {
      "text/plain": [
       "(2, 3)"
      ]
     },
     "execution_count": 7,
     "metadata": {},
     "output_type": "execute_result"
    }
   ],
   "source": [
    "## Comprueba los atributos del array creado antes\n",
    "\n",
    "array_2D.shape\n"
   ]
  },
  {
   "cell_type": "markdown",
   "metadata": {},
   "source": [
    "## Arrays de números aleatorios\n",
    "\n",
    "Numpy tiene una funcionalidad muy útil para generar datos de forma aleatoria o siguiendo alguna distribución estadística.\n",
    "\n",
    "```python\n",
    "gauss_dist = np.random.normal(loc=0,\n",
    "                              scale=1,\n",
    "                              size=(1000, 2))\n",
    "```"
   ]
  },
  {
   "cell_type": "code",
   "execution_count": 8,
   "metadata": {},
   "outputs": [],
   "source": [
    "## inicializar un vector aleatorio de enteros\n",
    "np.random.seed(0)  # semilla for reproducibility\n",
    "\n",
    "x1 = np.random.randint(10, size=6)  # One-dimensional array\n",
    "x2 = np.random.randint(10, size=(3, 4))  # Two-dimensional array"
   ]
  },
  {
   "cell_type": "code",
   "execution_count": 9,
   "metadata": {},
   "outputs": [],
   "source": [
    "## crea un array de 200 filas y 3 columnas aleatorio que siga una distribución\n",
    "## de poisson\n",
    "\n",
    "x_pois = np.random.poisson(lam=2., size=(200, 3))"
   ]
  },
  {
   "cell_type": "code",
   "execution_count": 10,
   "metadata": {
    "scrolled": true
   },
   "outputs": [
    {
     "data": {
      "text/plain": [
       "array([[3, 3, 4],\n",
       "       [4, 1, 2],\n",
       "       [1, 1, 4],\n",
       "       [2, 3, 0],\n",
       "       [6, 2, 4],\n",
       "       [0, 5, 1],\n",
       "       [3, 3, 5],\n",
       "       [1, 3, 2],\n",
       "       [1, 2, 2],\n",
       "       [6, 3, 3],\n",
       "       [1, 2, 2],\n",
       "       [3, 0, 2],\n",
       "       [2, 1, 3],\n",
       "       [0, 3, 0],\n",
       "       [1, 3, 0],\n",
       "       [3, 1, 3],\n",
       "       [2, 1, 5],\n",
       "       [1, 3, 4],\n",
       "       [1, 4, 0],\n",
       "       [5, 4, 3],\n",
       "       [3, 2, 1],\n",
       "       [3, 3, 3],\n",
       "       [2, 2, 2],\n",
       "       [3, 1, 1],\n",
       "       [1, 2, 0],\n",
       "       [1, 1, 1],\n",
       "       [3, 4, 4],\n",
       "       [3, 6, 1],\n",
       "       [1, 1, 3],\n",
       "       [2, 1, 4],\n",
       "       [3, 5, 0],\n",
       "       [2, 2, 3],\n",
       "       [1, 2, 1],\n",
       "       [0, 0, 1],\n",
       "       [4, 3, 3],\n",
       "       [1, 2, 1],\n",
       "       [1, 1, 2],\n",
       "       [2, 1, 2],\n",
       "       [1, 3, 2],\n",
       "       [1, 0, 6],\n",
       "       [0, 2, 4],\n",
       "       [0, 0, 0],\n",
       "       [2, 3, 3],\n",
       "       [2, 0, 3],\n",
       "       [1, 1, 4],\n",
       "       [3, 3, 3],\n",
       "       [3, 1, 3],\n",
       "       [1, 1, 1],\n",
       "       [3, 3, 1],\n",
       "       [2, 1, 4],\n",
       "       [2, 1, 0],\n",
       "       [2, 1, 3],\n",
       "       [4, 3, 4],\n",
       "       [4, 2, 1],\n",
       "       [2, 0, 2],\n",
       "       [1, 1, 2],\n",
       "       [2, 1, 5],\n",
       "       [2, 5, 4],\n",
       "       [3, 1, 2],\n",
       "       [0, 0, 1],\n",
       "       [4, 1, 2],\n",
       "       [4, 1, 1],\n",
       "       [2, 2, 3],\n",
       "       [2, 4, 2],\n",
       "       [4, 4, 2],\n",
       "       [1, 1, 1],\n",
       "       [2, 4, 3],\n",
       "       [2, 0, 0],\n",
       "       [2, 3, 3],\n",
       "       [0, 2, 0],\n",
       "       [0, 2, 0],\n",
       "       [4, 1, 3],\n",
       "       [2, 0, 1],\n",
       "       [3, 7, 2],\n",
       "       [1, 0, 1],\n",
       "       [1, 0, 5],\n",
       "       [1, 2, 1],\n",
       "       [2, 4, 1],\n",
       "       [1, 0, 2],\n",
       "       [4, 3, 3],\n",
       "       [2, 1, 3],\n",
       "       [4, 1, 2],\n",
       "       [4, 1, 2],\n",
       "       [0, 4, 3],\n",
       "       [3, 3, 0],\n",
       "       [5, 3, 1],\n",
       "       [1, 2, 2],\n",
       "       [1, 1, 0],\n",
       "       [2, 4, 0],\n",
       "       [0, 0, 2],\n",
       "       [4, 4, 2],\n",
       "       [1, 3, 2],\n",
       "       [1, 2, 1],\n",
       "       [3, 2, 1],\n",
       "       [1, 1, 1],\n",
       "       [6, 2, 0],\n",
       "       [3, 3, 1],\n",
       "       [4, 2, 3],\n",
       "       [5, 0, 2],\n",
       "       [3, 3, 3],\n",
       "       [3, 4, 5],\n",
       "       [1, 4, 3],\n",
       "       [2, 2, 3],\n",
       "       [1, 3, 1],\n",
       "       [3, 2, 0],\n",
       "       [0, 3, 0],\n",
       "       [4, 3, 0],\n",
       "       [1, 1, 2],\n",
       "       [1, 3, 3],\n",
       "       [3, 0, 1],\n",
       "       [0, 2, 2],\n",
       "       [1, 2, 1],\n",
       "       [1, 1, 0],\n",
       "       [0, 3, 2],\n",
       "       [1, 2, 2],\n",
       "       [3, 1, 2],\n",
       "       [3, 1, 1],\n",
       "       [5, 1, 1],\n",
       "       [0, 2, 1],\n",
       "       [1, 1, 6],\n",
       "       [2, 2, 2],\n",
       "       [3, 1, 2],\n",
       "       [3, 2, 1],\n",
       "       [2, 3, 1],\n",
       "       [1, 3, 6],\n",
       "       [0, 1, 2],\n",
       "       [0, 3, 1],\n",
       "       [5, 3, 4],\n",
       "       [3, 2, 4],\n",
       "       [2, 2, 4],\n",
       "       [0, 1, 0],\n",
       "       [1, 2, 2],\n",
       "       [3, 1, 1],\n",
       "       [2, 2, 2],\n",
       "       [3, 1, 2],\n",
       "       [1, 4, 4],\n",
       "       [2, 4, 4],\n",
       "       [1, 1, 2],\n",
       "       [1, 2, 2],\n",
       "       [2, 1, 2],\n",
       "       [4, 1, 2],\n",
       "       [2, 0, 3],\n",
       "       [1, 4, 0],\n",
       "       [3, 2, 2],\n",
       "       [0, 1, 1],\n",
       "       [3, 0, 0],\n",
       "       [3, 1, 0],\n",
       "       [4, 2, 0],\n",
       "       [1, 7, 4],\n",
       "       [2, 2, 0],\n",
       "       [2, 3, 2],\n",
       "       [3, 2, 2],\n",
       "       [1, 3, 1],\n",
       "       [0, 2, 4],\n",
       "       [1, 1, 1],\n",
       "       [3, 2, 4],\n",
       "       [2, 3, 1],\n",
       "       [1, 1, 2],\n",
       "       [0, 1, 3],\n",
       "       [1, 0, 4],\n",
       "       [3, 1, 0],\n",
       "       [1, 1, 1],\n",
       "       [3, 2, 5],\n",
       "       [3, 2, 1],\n",
       "       [2, 0, 5],\n",
       "       [1, 1, 1],\n",
       "       [3, 1, 4],\n",
       "       [1, 5, 2],\n",
       "       [2, 0, 3],\n",
       "       [1, 3, 3],\n",
       "       [0, 1, 1],\n",
       "       [2, 4, 2],\n",
       "       [2, 4, 1],\n",
       "       [1, 1, 3],\n",
       "       [2, 1, 0],\n",
       "       [1, 1, 3],\n",
       "       [1, 3, 2],\n",
       "       [0, 1, 1],\n",
       "       [2, 2, 2],\n",
       "       [3, 0, 2],\n",
       "       [1, 1, 3],\n",
       "       [4, 3, 3],\n",
       "       [5, 3, 7],\n",
       "       [2, 2, 0],\n",
       "       [0, 1, 2],\n",
       "       [2, 3, 0],\n",
       "       [0, 2, 2],\n",
       "       [0, 5, 2],\n",
       "       [3, 1, 3],\n",
       "       [3, 2, 2],\n",
       "       [2, 1, 2],\n",
       "       [0, 2, 3],\n",
       "       [0, 2, 2],\n",
       "       [3, 1, 2],\n",
       "       [3, 3, 1],\n",
       "       [2, 5, 3],\n",
       "       [7, 0, 3],\n",
       "       [4, 1, 5],\n",
       "       [4, 1, 2],\n",
       "       [1, 0, 3]])"
      ]
     },
     "execution_count": 10,
     "metadata": {},
     "output_type": "execute_result"
    }
   ],
   "source": [
    "x_pois"
   ]
  },
  {
   "cell_type": "markdown",
   "metadata": {},
   "source": [
    "## Indexing\n",
    "Sigue un patron similar a las listas de python.\n",
    "\n",
    "Para acceder al $i^{th}$ elemento de una array 1-dimensional se sigue la sintaxis de braquets.\n",
    "\n",
    "Para acceder al $i^{th}$ elemento de una array 2-dimensional se sigue la sintaxis de braquets con los indices separados por comas."
   ]
  },
  {
   "cell_type": "code",
   "execution_count": 11,
   "metadata": {},
   "outputs": [
    {
     "name": "stdout",
     "output_type": "stream",
     "text": [
      "5\n",
      "3\n",
      "7\n"
     ]
    }
   ],
   "source": [
    "## accede al primer, tercer y quinto elemento de x1.\n",
    "print(x1[0])\n",
    "print(x1[2])\n",
    "print(x1[4])"
   ]
  },
  {
   "cell_type": "code",
   "execution_count": 12,
   "metadata": {},
   "outputs": [
    {
     "data": {
      "text/plain": [
       "5"
      ]
     },
     "execution_count": 12,
     "metadata": {},
     "output_type": "execute_result"
    }
   ],
   "source": [
    "## accede primer al elemento de la primera fila y segunda columna de x2\n",
    "x2[0, 1]"
   ]
  },
  {
   "cell_type": "markdown",
   "metadata": {},
   "source": [
    "## Slicing\n",
    "\n",
    "De la misma forma que hacemos \"slices\" de listas en python podemos crearlos en los np.array.\n",
    "\n",
    "Además, podemos especificar un \"step\", que es la cantidad de elementos que se saltara entre uno y otro.\n",
    "\n",
    "\n",
    "x[start:stop:step]\n",
    "\n",
    "Si no se especifica alguno de ellos, numpy toma el valor por defecto, que son:\n",
    "\n",
    "* start=0\n",
    "* stop=tamaño de la dimensión\n",
    "* step=1"
   ]
  },
  {
   "cell_type": "code",
   "execution_count": 13,
   "metadata": {},
   "outputs": [
    {
     "data": {
      "text/plain": [
       "array([0, 1, 2, 3, 4, 5, 6, 7, 8, 9])"
      ]
     },
     "execution_count": 13,
     "metadata": {},
     "output_type": "execute_result"
    }
   ],
   "source": [
    "## Crea un array de una dimension con los numeros del 0 al 9 usando arange\n",
    "a = np.arange(10)\n",
    "a"
   ]
  },
  {
   "cell_type": "code",
   "execution_count": 14,
   "metadata": {},
   "outputs": [
    {
     "data": {
      "text/plain": [
       "array([0, 1, 2])"
      ]
     },
     "execution_count": 14,
     "metadata": {},
     "output_type": "execute_result"
    }
   ],
   "source": [
    "## Crea un slice que contenga los 3 primeros elementos\n",
    "a_3 = a[:3]\n",
    "a_3"
   ]
  },
  {
   "cell_type": "code",
   "execution_count": 15,
   "metadata": {},
   "outputs": [
    {
     "data": {
      "text/plain": [
       "array([8, 9])"
      ]
     },
     "execution_count": 15,
     "metadata": {},
     "output_type": "execute_result"
    }
   ],
   "source": [
    "## Crea un slice que contenga los 2 ultimos elementos\n",
    "a_last_2 = a[8:]\n",
    "a_last_2"
   ]
  },
  {
   "cell_type": "code",
   "execution_count": 16,
   "metadata": {},
   "outputs": [
    {
     "data": {
      "text/plain": [
       "array([0, 2, 4])"
      ]
     },
     "execution_count": 16,
     "metadata": {},
     "output_type": "execute_result"
    }
   ],
   "source": [
    "## Crea un slice que contenga los elementos uno si y uno no\n",
    "a[:6:2]"
   ]
  },
  {
   "cell_type": "markdown",
   "metadata": {},
   "source": [
    "#### Ojo! si el paso es negativo los campos de start y stop se invierten. Es una forma muy conveniente de invertir el orden de un array"
   ]
  },
  {
   "cell_type": "code",
   "execution_count": 17,
   "metadata": {},
   "outputs": [
    {
     "name": "stdout",
     "output_type": "stream",
     "text": [
      "[0 1 2 3 4 5 6 7 8 9]\n",
      "[9 8 7 6 5 4 3 2 1 0]\n"
     ]
    }
   ],
   "source": [
    "ordered = np.arange(10)\n",
    "print(ordered)\n",
    "reverse_order = ordered[::-1] \n",
    "print(reverse_order)"
   ]
  },
  {
   "cell_type": "markdown",
   "metadata": {},
   "source": [
    "## Multidimensiones\n",
    "\n",
    "Hay que especificar el sub-slice en cada una de las dimensiones separados por coma en braquets\n",
    "\n",
    "\n",
    "```python\n",
    "\n",
    "x = np.array([[3, 5, 2, 4],\n",
    "              [7, 6, 8, 8],\n",
    "              [1, 6, 7, 7]])\n",
    "# columnas\n",
    "x[:, 2]\n",
    "# output\n",
    "array([2, 8, 7])\n",
    "\n",
    "# filas\n",
    "x[1, :]\n",
    "\n",
    "# output\n",
    "array([7, 6, 8, 8])\n",
    "```"
   ]
  },
  {
   "cell_type": "code",
   "execution_count": 18,
   "metadata": {},
   "outputs": [
    {
     "data": {
      "text/plain": [
       "array([3, 7, 1])"
      ]
     },
     "execution_count": 18,
     "metadata": {},
     "output_type": "execute_result"
    }
   ],
   "source": [
    "## accede a la primera columna\n",
    "x = np.array([[3, 5, 2, 4],\n",
    "              [7, 6, 8, 8],\n",
    "              [1, 6, 7, 7]])\n",
    "\n",
    "x[:, 0]"
   ]
  },
  {
   "cell_type": "code",
   "execution_count": 19,
   "metadata": {},
   "outputs": [
    {
     "data": {
      "text/plain": [
       "array([5, 6, 6])"
      ]
     },
     "execution_count": 19,
     "metadata": {},
     "output_type": "execute_result"
    }
   ],
   "source": [
    "## accede a la segunda columna\n",
    "x[:, 1]"
   ]
  },
  {
   "cell_type": "code",
   "execution_count": 20,
   "metadata": {},
   "outputs": [
    {
     "data": {
      "text/plain": [
       "array([[7, 6, 8, 8],\n",
       "       [1, 6, 7, 7]])"
      ]
     },
     "execution_count": 20,
     "metadata": {},
     "output_type": "execute_result"
    }
   ],
   "source": [
    "## elimina la primera fila\n",
    "x[1:, :]"
   ]
  },
  {
   "cell_type": "markdown",
   "metadata": {},
   "source": [
    "## Expresiones matemáticas y funciones útiles\n",
    "\n",
    "Numpy permite evaluar expresiones matematicas y funciones de forma sencilla y eficiente.\n",
    "\n",
    "Por ejemplo:\n",
    "\n",
    "```python\n",
    "\n",
    "x = np.random.randint(10, size=20)\n",
    "\n",
    "add_5_element_wise = x + 5\n",
    "```\n",
    "\n",
    "Suma `5` a cada elemento del array. Esto funciona de forma similar para las funciones aritméticas básicas (+, -, \\*,...)"
   ]
  },
  {
   "cell_type": "code",
   "execution_count": 21,
   "metadata": {},
   "outputs": [
    {
     "data": {
      "text/plain": [
       "\u001b[0;31mDocstring:\u001b[0m\n",
       "choice(a, size=None, replace=True, p=None)\n",
       "\n",
       "Generates a random sample from a given 1-D array\n",
       "\n",
       ".. versionadded:: 1.7.0\n",
       "\n",
       ".. note::\n",
       "    New code should use the ``choice`` method of a ``default_rng()``\n",
       "    instance instead; see `random-quick-start`.\n",
       "\n",
       "Parameters\n",
       "----------\n",
       "a : 1-D array-like or int\n",
       "    If an ndarray, a random sample is generated from its elements.\n",
       "    If an int, the random sample is generated as if a were np.arange(a)\n",
       "size : int or tuple of ints, optional\n",
       "    Output shape.  If the given shape is, e.g., ``(m, n, k)``, then\n",
       "    ``m * n * k`` samples are drawn.  Default is None, in which case a\n",
       "    single value is returned.\n",
       "replace : boolean, optional\n",
       "    Whether the sample is with or without replacement\n",
       "p : 1-D array-like, optional\n",
       "    The probabilities associated with each entry in a.\n",
       "    If not given the sample assumes a uniform distribution over all\n",
       "    entries in a.\n",
       "\n",
       "Returns\n",
       "-------\n",
       "samples : single item or ndarray\n",
       "    The generated random samples\n",
       "\n",
       "Raises\n",
       "------\n",
       "ValueError\n",
       "    If a is an int and less than zero, if a or p are not 1-dimensional,\n",
       "    if a is an array-like of size 0, if p is not a vector of\n",
       "    probabilities, if a and p have different lengths, or if\n",
       "    replace=False and the sample size is greater than the population\n",
       "    size\n",
       "\n",
       "See Also\n",
       "--------\n",
       "randint, shuffle, permutation\n",
       "Generator.choice: which should be used in new code\n",
       "\n",
       "Notes\n",
       "-----\n",
       "Sampling random rows from a 2-D array is not possible with this function,\n",
       "but is possible with `Generator.choice` through its ``axis`` keyword.\n",
       "\n",
       "Examples\n",
       "--------\n",
       "Generate a uniform random sample from np.arange(5) of size 3:\n",
       "\n",
       ">>> np.random.choice(5, 3)\n",
       "array([0, 3, 4]) # random\n",
       ">>> #This is equivalent to np.random.randint(0,5,3)\n",
       "\n",
       "Generate a non-uniform random sample from np.arange(5) of size 3:\n",
       "\n",
       ">>> np.random.choice(5, 3, p=[0.1, 0, 0.3, 0.6, 0])\n",
       "array([3, 3, 0]) # random\n",
       "\n",
       "Generate a uniform random sample from np.arange(5) of size 3 without\n",
       "replacement:\n",
       "\n",
       ">>> np.random.choice(5, 3, replace=False)\n",
       "array([3,1,0]) # random\n",
       ">>> #This is equivalent to np.random.permutation(np.arange(5))[:3]\n",
       "\n",
       "Generate a non-uniform random sample from np.arange(5) of size\n",
       "3 without replacement:\n",
       "\n",
       ">>> np.random.choice(5, 3, replace=False, p=[0.1, 0, 0.3, 0.6, 0])\n",
       "array([2, 3, 0]) # random\n",
       "\n",
       "Any of the above can be repeated with an arbitrary array-like\n",
       "instead of just integers. For instance:\n",
       "\n",
       ">>> aa_milne_arr = ['pooh', 'rabbit', 'piglet', 'Christopher']\n",
       ">>> np.random.choice(aa_milne_arr, 5, p=[0.5, 0.1, 0.1, 0.3])\n",
       "array(['pooh', 'pooh', 'pooh', 'Christopher', 'piglet'], # random\n",
       "      dtype='<U11')\n",
       "\u001b[0;31mType:\u001b[0m      builtin_function_or_method\n"
      ]
     },
     "metadata": {},
     "output_type": "display_data"
    }
   ],
   "source": [
    "# crea un array aleatorio y multiplica cada uno de sus elementos por 3\n",
    "a =np.random.choice??"
   ]
  },
  {
   "cell_type": "code",
   "execution_count": 22,
   "metadata": {},
   "outputs": [],
   "source": [
    "a = np.random.choice(np.array([1, 2, 3]), size=(100,))"
   ]
  },
  {
   "cell_type": "code",
   "execution_count": 23,
   "metadata": {},
   "outputs": [
    {
     "data": {
      "text/plain": [
       "array([6, 6, 3, 3, 9, 6, 3, 6, 9, 9, 3, 9, 3, 6, 3, 9, 6, 9, 6, 6, 6, 6,\n",
       "       9, 3, 6, 9, 9, 9, 3, 9, 9, 3, 9, 9, 3, 3, 3, 6, 3, 6, 6, 3, 6, 9,\n",
       "       9, 3, 6, 9, 6, 6, 9, 3, 6, 9, 3, 6, 6, 6, 6, 3, 6, 9, 9, 9, 3, 9,\n",
       "       6, 6, 9, 3, 3, 6, 6, 9, 3, 9, 6, 6, 9, 3, 6, 6, 3, 6, 3, 3, 6, 9,\n",
       "       6, 6, 6, 6, 9, 9, 9, 3, 9, 3, 6, 9])"
      ]
     },
     "execution_count": 23,
     "metadata": {},
     "output_type": "execute_result"
    }
   ],
   "source": [
    "a*3"
   ]
  },
  {
   "cell_type": "markdown",
   "metadata": {},
   "source": [
    "### Funciones trigonométricas"
   ]
  },
  {
   "cell_type": "code",
   "execution_count": 24,
   "metadata": {},
   "outputs": [
    {
     "data": {
      "text/plain": [
       "array([0.        , 0.78539816, 1.57079633, 2.35619449, 3.14159265])"
      ]
     },
     "execution_count": 24,
     "metadata": {},
     "output_type": "execute_result"
    }
   ],
   "source": [
    "# Crea un vector de 5 elementos espaciados de forma homogenea\n",
    "# entre 0 y pi, ambos incluidos\n",
    "x = np.linspace(0, np.pi, 5)\n",
    "x"
   ]
  },
  {
   "cell_type": "code",
   "execution_count": 25,
   "metadata": {},
   "outputs": [
    {
     "name": "stdout",
     "output_type": "stream",
     "text": [
      "[0.         0.78539816 1.57079633 2.35619449 3.14159265]\n",
      "[0.00000000e+00 7.07106781e-01 1.00000000e+00 7.07106781e-01\n",
      " 1.22464680e-16]\n"
     ]
    }
   ],
   "source": [
    "print(x)\n",
    "sin_x = np.sin(x)\n",
    "print(sin_x)"
   ]
  },
  {
   "cell_type": "code",
   "execution_count": 26,
   "metadata": {},
   "outputs": [
    {
     "data": {
      "text/plain": [
       "array([1., 1., 1., 1., 1.])"
      ]
     },
     "execution_count": 26,
     "metadata": {},
     "output_type": "execute_result"
    }
   ],
   "source": [
    "# demuestra el teorema fundamental de la trigonometria\n",
    "\n",
    "sin_x = np.sin(x)\n",
    "\n",
    "cos_x = np.cos(x)\n",
    "\n",
    "sin_x**2 + cos_x**2"
   ]
  },
  {
   "cell_type": "markdown",
   "metadata": {},
   "source": [
    "## Exponentes y logaritmos"
   ]
  },
  {
   "cell_type": "code",
   "execution_count": 27,
   "metadata": {},
   "outputs": [
    {
     "name": "stdout",
     "output_type": "stream",
     "text": [
      "x     = [1, 2, 3]\n",
      "e^x   = [ 2.71828183  7.3890561  20.08553692]\n",
      "2^x   = [2. 4. 8.]\n",
      "3^x   = [ 3  9 27]\n"
     ]
    }
   ],
   "source": [
    "x = [1, 2, 3]\n",
    "print(\"x     =\", x)\n",
    "print(\"e^x   =\", np.exp(x))\n",
    "print(\"2^x   =\", np.exp2(x))\n",
    "print(\"3^x   =\", np.power(3, x))"
   ]
  },
  {
   "cell_type": "code",
   "execution_count": 28,
   "metadata": {},
   "outputs": [
    {
     "data": {
      "text/plain": [
       "array([ 1,  8, 27])"
      ]
     },
     "execution_count": 28,
     "metadata": {},
     "output_type": "execute_result"
    }
   ],
   "source": [
    "np.power(x, 3)"
   ]
  },
  {
   "cell_type": "code",
   "execution_count": 29,
   "metadata": {},
   "outputs": [
    {
     "name": "stdout",
     "output_type": "stream",
     "text": [
      "x        = [1, 2, 4, 10]\n",
      "ln(x)    = [0.         0.69314718 1.38629436 2.30258509]\n",
      "log2(x)  = [0.         1.         2.         3.32192809]\n",
      "log10(x) = [0.         0.30103    0.60205999 1.        ]\n"
     ]
    }
   ],
   "source": [
    "x = [1, 2, 4, 10]\n",
    "print(\"x        =\", x)\n",
    "print(\"ln(x)    =\", np.log(x))\n",
    "print(\"log2(x)  =\", np.log2(x))\n",
    "print(\"log10(x) =\", np.log10(x))"
   ]
  },
  {
   "cell_type": "markdown",
   "metadata": {},
   "source": [
    "Unas transformaciones muy útiles cuando lidiamos con valores pequeños son:"
   ]
  },
  {
   "cell_type": "code",
   "execution_count": 30,
   "metadata": {},
   "outputs": [
    {
     "name": "stdout",
     "output_type": "stream",
     "text": [
      "exp(x) - 1 = [0.         0.0010005  0.01005017 0.10517092]\n",
      "log(1 + x) = [0.         0.0009995  0.00995033 0.09531018]\n"
     ]
    }
   ],
   "source": [
    "x = [0, 0.001, 0.01, 0.1]\n",
    "print(\"exp(x) - 1 =\", np.expm1(x))\n",
    "print(\"log(1 + x) =\", np.log1p(x))"
   ]
  },
  {
   "cell_type": "markdown",
   "metadata": {},
   "source": [
    "# Funciones estadísticas integradas\n",
    "\n",
    "Numpy permite calcular de forma rápida parametros estadisticos y otras aggregaciones sobre un array"
   ]
  },
  {
   "cell_type": "code",
   "execution_count": 31,
   "metadata": {},
   "outputs": [
    {
     "data": {
      "text/plain": [
       "45"
      ]
     },
     "execution_count": 31,
     "metadata": {},
     "output_type": "execute_result"
    }
   ],
   "source": [
    "# suma de todos los elementos\n",
    "x = np.arange(10)\n",
    "x.sum()"
   ]
  },
  {
   "cell_type": "code",
   "execution_count": 32,
   "metadata": {},
   "outputs": [
    {
     "name": "stdout",
     "output_type": "stream",
     "text": [
      "mean: 4.5\n",
      "std: 2.8722813232690143\n"
     ]
    }
   ],
   "source": [
    "# media y desviación estandar\n",
    "\n",
    "print('mean:', x.mean())\n",
    "print('std:', x.std())"
   ]
  },
  {
   "cell_type": "code",
   "execution_count": 33,
   "metadata": {},
   "outputs": [
    {
     "data": {
      "text/plain": [
       "4.5"
      ]
     },
     "execution_count": 33,
     "metadata": {},
     "output_type": "execute_result"
    }
   ],
   "source": [
    "# percentiles\n",
    "np.percentile(x, 50)"
   ]
  },
  {
   "cell_type": "code",
   "execution_count": 34,
   "metadata": {},
   "outputs": [
    {
     "name": "stdout",
     "output_type": "stream",
     "text": [
      "[0 1 2 3 4 5 6 7 8 9]\n",
      "[ 0  1  3  6 10 15 21 28 36 45]\n"
     ]
    }
   ],
   "source": [
    "# la suma acumulada de los valores\n",
    "print(x)\n",
    "print(x.cumsum())"
   ]
  },
  {
   "cell_type": "markdown",
   "metadata": {},
   "source": [
    "### Ejercicios\n",
    "\n",
    "Utiliza el cheatsheet disponible o busca las funcionalidades pertinentes\n",
    "\n",
    "1. Crea una matriz identidad de $4 \\times 4$\n",
    "2. Genera el array siguiente sin crear la lista\n",
    "```\n",
    "1 2 3\n",
    "4 5 6\n",
    "7 8 9\n",
    "```\n",
    "3. Genera una matrix aleatoria de $4 \\times 4 \\times 4$ con números distribuidos siguiendo una gaussiana\n",
    "4. Genear `n` intervalos entre 0 and 1 distribuidos de forma logarítmica"
   ]
  },
  {
   "cell_type": "markdown",
   "metadata": {},
   "source": [
    "# Matplotlib\n",
    "\n",
    "![img/3-numpy/matplotlib-logo.png](img/3-numpy/matplotlib-logo.png)\n",
    "\n",
    "*Matplotlib* permite graficar cosas. ```pyplot``` es una capa que dota a la librería de una sintaxis similar a la de MATLAB.\n",
    "\n",
    "Se complementa a la perfección con [seaborn](http://seaborn.pydata.org/), que nos permitirá hacer además gráficos estadísticos.\n",
    "\n",
    "En conjunto, son un duo muy potente que permite hacer cosas como ésta [código fuente](http://seaborn.pydata.org/examples/structured_heatmap.html):\n",
    "\n",
    "<img src='img/3-numpy/structured_heatmap.png' width=500>\n",
    "\n",
    "A medida que vayamos avanzando entraremos en más detalle sobre los diferentes tipos de gráficos. Por ahora, nos limitaremos a hablar sobre los básicos:\n",
    "\n",
    "- Lineas\n",
    "- Barras e Histogramas\n",
    "- Scatter plots"
   ]
  },
  {
   "cell_type": "code",
   "execution_count": 35,
   "metadata": {},
   "outputs": [],
   "source": [
    "%matplotlib inline\n",
    "\n",
    "import matplotlib.pyplot as plt\n",
    "import seaborn as sns\n",
    "\n",
    "sns.set_context('notebook')"
   ]
  },
  {
   "cell_type": "markdown",
   "metadata": {},
   "source": [
    "# Line plot example\n",
    "\n",
    "Matplotlib puede crear graficos X-Y basicos a partir de arrays o listas del mismo tamaño. Si solo le diesemos una lista o array, la graficaría contra su indice.\n",
    "\n",
    "Cada vez que llamamos a plt.plot() nos sobrepone una nueva curva en la misma figura. Si quisieramos una nueva, deberíamos especificar 'plt.figure()' para crear una nueva."
   ]
  },
  {
   "cell_type": "code",
   "execution_count": 36,
   "metadata": {},
   "outputs": [
    {
     "data": {
      "image/png": "[encoded data removed]",
      "text/plain": [
       "<Figure size 432x288 with 1 Axes>"
      ]
     },
     "metadata": {
      "needs_background": "light"
     },
     "output_type": "display_data"
    }
   ],
   "source": [
    "xs = np.random.randn(5, 100)\n",
    "\n",
    "plt.title(\"Brownian Motion\")\n",
    "bms = xs.cumsum(axis=1)\n",
    "for bm in bms:\n",
    "    plt.plot(bm)"
   ]
  },
  {
   "cell_type": "markdown",
   "metadata": {},
   "source": [
    "### Subplots\n",
    "\n",
    "Muchas veces querremos tener los gráficos por separado. La forma más sencilla de generarlos es usando el comando sublplots y especificando el numero de filas y/o columnas en los que queremos que se dividan.\n",
    "\n",
    "```python\n",
    "\n",
    "fig, ax = plt.subplots(nrows=2,\n",
    "                       ncols=3,\n",
    "                       sharex=True,\n",
    "                       sharey=True)\n",
    "```\n",
    "`ax` es un np.array de (nrows, ncols) al que podremos acceder por los indices para poder \"colocar\" los plots que queramos.\n",
    "                       \n",
    "                    "
   ]
  },
  {
   "cell_type": "code",
   "execution_count": 37,
   "metadata": {},
   "outputs": [
    {
     "data": {
      "image/png": "[encoded data removed]",
      "text/plain": [
       "<Figure size 432x288 with 2 Axes>"
      ]
     },
     "metadata": {
      "needs_background": "light"
     },
     "output_type": "display_data"
    }
   ],
   "source": [
    "fig, ax = plt.subplots(nrows=2,\n",
    "                       sharex=True,\n",
    "                       sharey=True)\n",
    "for i in range(2):\n",
    "    ax[i].plot(np.random.randn(100))"
   ]
  },
  {
   "cell_type": "markdown",
   "metadata": {},
   "source": [
    "## Histogram and bar plot\n",
    "\n",
    "Aunque *matplotlib* tiene funcionalidad para histogramas, los de seaborn ofrecen una funcionaliad más completa."
   ]
  },
  {
   "cell_type": "code",
   "execution_count": 38,
   "metadata": {},
   "outputs": [
    {
     "data": {
      "image/png": "[encoded data removed]",
      "text/plain": [
       "<Figure size 432x288 with 2 Axes>"
      ]
     },
     "metadata": {
      "needs_background": "light"
     },
     "output_type": "display_data"
    }
   ],
   "source": [
    "# matplotlib\n",
    "\n",
    "data = np.random.gamma(4.5, 1.0, 10000)\n",
    "\n",
    "fig, ax = plt.subplots(ncols=2)\n",
    "\n",
    "ax[0].boxplot(data)\n",
    "ax[1].hist(data)\n",
    "\n",
    "plt.show()"
   ]
  },
  {
   "cell_type": "code",
   "execution_count": 39,
   "metadata": {},
   "outputs": [
    {
     "data": {
      "image/png": "[encoded data removed]",
      "text/plain": [
       "<Figure size 864x576 with 3 Axes>"
      ]
     },
     "metadata": {
      "needs_background": "light"
     },
     "output_type": "display_data"
    }
   ],
   "source": [
    "# seaborn\n",
    "# matplotlib\n",
    "data = np.random.gamma(4.5, 1.0, 10000)\n",
    "\n",
    "fig, ax = plt.subplots(ncols=3, figsize=(12, 8))\n",
    "sns.boxplot(y=data, ax=ax[0], orient='v')\n",
    "sns.violinplot(y=data, ax=ax[1], orient='v')\n",
    "sns.histplot(x=data, ax=ax[2])\n",
    "plt.show()"
   ]
  },
  {
   "cell_type": "markdown",
   "metadata": {},
   "source": [
    "## Scatter plots\n",
    "Necesitamos dos arrays o listas del mismo tamaño para poder plotear una contra la otra"
   ]
  },
  {
   "cell_type": "code",
   "execution_count": 40,
   "metadata": {},
   "outputs": [
    {
     "data": {
      "image/png": "[encoded data removed]",
      "text/plain": [
       "<Figure size 432x288 with 1 Axes>"
      ]
     },
     "metadata": {
      "needs_background": "light"
     },
     "output_type": "display_data"
    }
   ],
   "source": [
    "x = np.random.normal(size=1000)\n",
    "y = np.random.normal(size=1000)\n",
    "\n",
    "plt.scatter(x, y, c='firebrick', alpha=0.2)\n",
    "plt.show()"
   ]
  },
  {
   "cell_type": "code",
   "execution_count": 41,
   "metadata": {},
   "outputs": [
    {
     "data": {
      "text/plain": [
       "<seaborn.axisgrid.JointGrid at 0x7fe61a85ba90>"
      ]
     },
     "execution_count": 41,
     "metadata": {},
     "output_type": "execute_result"
    },
    {
     "data": {
      "image/png": "[encoded data removed]",
      "text/plain": [
       "<Figure size 432x432 with 3 Axes>"
      ]
     },
     "metadata": {
      "needs_background": "light"
     },
     "output_type": "display_data"
    }
   ],
   "source": [
    "sns.jointplot(x=x, y=y, kind='kde')"
   ]
  },
  {
   "cell_type": "code",
   "execution_count": 42,
   "metadata": {},
   "outputs": [],
   "source": [
    "## Genera un sinusoide y añadele ruido aleatorio gaussiano.\n",
    "## con media=0 y std=0.1 y grafícalo.\n",
    "\n",
    "x = np.linspace(0, 4*np.pi, 1000)"
   ]
  },
  {
   "cell_type": "code",
   "execution_count": 43,
   "metadata": {},
   "outputs": [],
   "source": [
    "y_real = np.sin(x)\n"
   ]
  },
  {
   "cell_type": "code",
   "execution_count": 44,
   "metadata": {},
   "outputs": [],
   "source": [
    "noise = np.random.normal(0, 0.1, size=1000)"
   ]
  },
  {
   "cell_type": "code",
   "execution_count": 45,
   "metadata": {},
   "outputs": [],
   "source": [
    "y_noise = y_real + noise"
   ]
  },
  {
   "cell_type": "code",
   "execution_count": 46,
   "metadata": {},
   "outputs": [
    {
     "data": {
      "text/plain": [
       "<AxesSubplot:>"
      ]
     },
     "execution_count": 46,
     "metadata": {},
     "output_type": "execute_result"
    },
    {
     "data": {
      "image/png": "[encoded data removed]",
      "text/plain": [
       "<Figure size 432x288 with 1 Axes>"
      ]
     },
     "metadata": {
      "needs_background": "light"
     },
     "output_type": "display_data"
    }
   ],
   "source": [
    "sns.scatterplot(x=x, y=y_noise, s=10, alpha=0.5)"
   ]
  }
 ],
 "metadata": {
  "anaconda-cloud": {},
  "kernelspec": {
   "display_name": "Py37 (ds-uib)",
   "language": "python",
   "name": "ds-uib"
  },
  "language_info": {
   "codemirror_mode": {
    "name": "ipython",
    "version": 3
   },
   "file_extension": ".py",
   "mimetype": "text/x-python",
   "name": "python",
   "nbconvert_exporter": "python",
   "pygments_lexer": "ipython3",
   "version": "3.7.9"
  }
 },
 "nbformat": 4,
 "nbformat_minor": 4
}
