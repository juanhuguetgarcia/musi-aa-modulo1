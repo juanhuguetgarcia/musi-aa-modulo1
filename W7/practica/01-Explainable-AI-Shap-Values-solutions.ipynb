{
 "cells": [
  {
   "cell_type": "markdown",
   "metadata": {},
   "source": [
    "# Shap Values\n",
    "\n",
    "La interpretabilidad de los modelos es un \"tema caliente\", en muchas ocasiones no podremos entregar un modelo que sea una caja negra, donde no podamos explicar que está pasando realmente. \n",
    "\n",
    "En ciertas aréas es particularmente dificil adoptar modelos que sean cajas negras (medicina, banca, ... ), por lo tanto, cuanto mejor sea la interpretabilidad del modelo, mejor adopción tendremos.\n",
    "\n",
    "Para conseguir esta interpretabilidad de los modelos, podemos utilizar distintas herramientas: \n",
    "\n",
    "  - **Shap Values**\n",
    "  - Lime\n",
    "  - InterpretML\n",
    "  - ELI5\n",
    "  \n",
    "A lo largo de este tema nos vamos a centrar en la primera, los SHAP Values."
   ]
  },
  {
   "cell_type": "markdown",
   "metadata": {},
   "source": [
    "![](img/shap.svg)"
   ]
  },
  {
   "cell_type": "markdown",
   "metadata": {},
   "source": [
    "SHAP significa **SHapley Additive exPlanations**, de este modo, para entender que son los SHAP values tenemos que saver que es un Shapley value. \n",
    "\n",
    "Un SHapley value es la media de las contribuciones marginales de cada elemento en las diferentes permutaciones de estos [Definicion matemática](https://math.stackexchange.com/questions/111580/shapley-value-formula#:~:text=I%20understand%20Shapley%20value%20in,%E2%88%92v(s)).\n",
    "\n",
    "Una vez conocemos que es un SHapley value, vamos a ver que es SHAP:\n",
    "\n",
    "[Lundberg & Lee (2016)](https://papers.nips.cc/paper/2017/file/8a20a8621978632d76c43dfd28b67767-Paper.pdf) propusieron el SHAP value como una aproximación unida para explicar los resultados de cualquier modelo de machine learning, otorgandonos los siguientes beneficios: \n",
    "\n",
    "1. Interpretabilidad global. Los valores agregados de SHAP values nos indica cuanto contribuye cada predictor.\n",
    "1. Interpretabilidad local. Cada observacion tiene su conjunto de SHAP values, lo que nos da transparencia.\n",
    "1. Posibilidad de calcular SHAP para cualquier modelo basado en arboles.\n",
    "\n",
    "Dicho esto, vamos a ver como visualizar la explicabilidad de los modelos con SHAP en python."
   ]
  },
  {
   "cell_type": "markdown",
   "metadata": {},
   "source": [
    "## 1 - importamos las librerías de base"
   ]
  },
  {
   "cell_type": "code",
   "execution_count": 1,
   "metadata": {},
   "outputs": [],
   "source": [
    "## common libraries for Data Wrangling and visualization\n",
    "import pandas as pd\n",
    "import numpy as np\n",
    "import matplotlib.pyplot as plt\n",
    "import seaborn as sns\n",
    "\n",
    "## sklearn: train test split, RandomForestRegressor, y mean_squared_error\n",
    "from sklearn.model_selection import train_test_split\n",
    "from sklearn.ensemble import RandomForestRegressor\n",
    "from sklearn.metrics import mean_squared_error\n",
    "\n",
    "## import shap\n",
    "import shap"
   ]
  },
  {
   "cell_type": "markdown",
   "metadata": {},
   "source": [
    "## Carga los datos en un df"
   ]
  },
  {
   "cell_type": "code",
   "execution_count": 2,
   "metadata": {},
   "outputs": [],
   "source": [
    "df = pd.read_csv('data/winequality-red.csv', sep=';')"
   ]
  },
  {
   "cell_type": "code",
   "execution_count": 3,
   "metadata": {},
   "outputs": [
    {
     "data": {
      "text/html": [
       "<div>\n",
       "<style scoped>\n",
       "    .dataframe tbody tr th:only-of-type {\n",
       "        vertical-align: middle;\n",
       "    }\n",
       "\n",
       "    .dataframe tbody tr th {\n",
       "        vertical-align: top;\n",
       "    }\n",
       "\n",
       "    .dataframe thead th {\n",
       "        text-align: right;\n",
       "    }\n",
       "</style>\n",
       "<table border=\"1\" class=\"dataframe\">\n",
       "  <thead>\n",
       "    <tr style=\"text-align: right;\">\n",
       "      <th></th>\n",
       "      <th>fixed acidity</th>\n",
       "      <th>volatile acidity</th>\n",
       "      <th>citric acid</th>\n",
       "      <th>residual sugar</th>\n",
       "      <th>chlorides</th>\n",
       "      <th>free sulfur dioxide</th>\n",
       "      <th>total sulfur dioxide</th>\n",
       "      <th>density</th>\n",
       "      <th>pH</th>\n",
       "      <th>sulphates</th>\n",
       "      <th>alcohol</th>\n",
       "      <th>quality</th>\n",
       "    </tr>\n",
       "  </thead>\n",
       "  <tbody>\n",
       "    <tr>\n",
       "      <th>147</th>\n",
       "      <td>7.6</td>\n",
       "      <td>0.490</td>\n",
       "      <td>0.26</td>\n",
       "      <td>1.6</td>\n",
       "      <td>0.236</td>\n",
       "      <td>10.0</td>\n",
       "      <td>88.0</td>\n",
       "      <td>0.99680</td>\n",
       "      <td>3.11</td>\n",
       "      <td>0.80</td>\n",
       "      <td>9.3</td>\n",
       "      <td>5</td>\n",
       "    </tr>\n",
       "    <tr>\n",
       "      <th>1213</th>\n",
       "      <td>9.6</td>\n",
       "      <td>0.380</td>\n",
       "      <td>0.42</td>\n",
       "      <td>1.9</td>\n",
       "      <td>0.071</td>\n",
       "      <td>5.0</td>\n",
       "      <td>13.0</td>\n",
       "      <td>0.99659</td>\n",
       "      <td>3.15</td>\n",
       "      <td>0.75</td>\n",
       "      <td>10.5</td>\n",
       "      <td>6</td>\n",
       "    </tr>\n",
       "    <tr>\n",
       "      <th>954</th>\n",
       "      <td>7.6</td>\n",
       "      <td>0.430</td>\n",
       "      <td>0.40</td>\n",
       "      <td>2.7</td>\n",
       "      <td>0.082</td>\n",
       "      <td>6.0</td>\n",
       "      <td>11.0</td>\n",
       "      <td>0.99538</td>\n",
       "      <td>3.44</td>\n",
       "      <td>0.54</td>\n",
       "      <td>12.2</td>\n",
       "      <td>6</td>\n",
       "    </tr>\n",
       "    <tr>\n",
       "      <th>752</th>\n",
       "      <td>7.6</td>\n",
       "      <td>0.540</td>\n",
       "      <td>0.13</td>\n",
       "      <td>2.5</td>\n",
       "      <td>0.097</td>\n",
       "      <td>24.0</td>\n",
       "      <td>66.0</td>\n",
       "      <td>0.99785</td>\n",
       "      <td>3.39</td>\n",
       "      <td>0.61</td>\n",
       "      <td>9.4</td>\n",
       "      <td>5</td>\n",
       "    </tr>\n",
       "    <tr>\n",
       "      <th>802</th>\n",
       "      <td>5.1</td>\n",
       "      <td>0.585</td>\n",
       "      <td>0.00</td>\n",
       "      <td>1.7</td>\n",
       "      <td>0.044</td>\n",
       "      <td>14.0</td>\n",
       "      <td>86.0</td>\n",
       "      <td>0.99264</td>\n",
       "      <td>3.56</td>\n",
       "      <td>0.94</td>\n",
       "      <td>12.9</td>\n",
       "      <td>7</td>\n",
       "    </tr>\n",
       "    <tr>\n",
       "      <th>80</th>\n",
       "      <td>6.2</td>\n",
       "      <td>0.450</td>\n",
       "      <td>0.20</td>\n",
       "      <td>1.6</td>\n",
       "      <td>0.069</td>\n",
       "      <td>3.0</td>\n",
       "      <td>15.0</td>\n",
       "      <td>0.99580</td>\n",
       "      <td>3.41</td>\n",
       "      <td>0.56</td>\n",
       "      <td>9.2</td>\n",
       "      <td>5</td>\n",
       "    </tr>\n",
       "    <tr>\n",
       "      <th>1226</th>\n",
       "      <td>7.5</td>\n",
       "      <td>0.580</td>\n",
       "      <td>0.03</td>\n",
       "      <td>4.1</td>\n",
       "      <td>0.080</td>\n",
       "      <td>27.0</td>\n",
       "      <td>46.0</td>\n",
       "      <td>0.99592</td>\n",
       "      <td>3.02</td>\n",
       "      <td>0.47</td>\n",
       "      <td>9.2</td>\n",
       "      <td>5</td>\n",
       "    </tr>\n",
       "    <tr>\n",
       "      <th>13</th>\n",
       "      <td>7.8</td>\n",
       "      <td>0.610</td>\n",
       "      <td>0.29</td>\n",
       "      <td>1.6</td>\n",
       "      <td>0.114</td>\n",
       "      <td>9.0</td>\n",
       "      <td>29.0</td>\n",
       "      <td>0.99740</td>\n",
       "      <td>3.26</td>\n",
       "      <td>1.56</td>\n",
       "      <td>9.1</td>\n",
       "      <td>5</td>\n",
       "    </tr>\n",
       "    <tr>\n",
       "      <th>21</th>\n",
       "      <td>7.6</td>\n",
       "      <td>0.390</td>\n",
       "      <td>0.31</td>\n",
       "      <td>2.3</td>\n",
       "      <td>0.082</td>\n",
       "      <td>23.0</td>\n",
       "      <td>71.0</td>\n",
       "      <td>0.99820</td>\n",
       "      <td>3.52</td>\n",
       "      <td>0.65</td>\n",
       "      <td>9.7</td>\n",
       "      <td>5</td>\n",
       "    </tr>\n",
       "    <tr>\n",
       "      <th>1171</th>\n",
       "      <td>7.1</td>\n",
       "      <td>0.590</td>\n",
       "      <td>0.00</td>\n",
       "      <td>2.2</td>\n",
       "      <td>0.078</td>\n",
       "      <td>26.0</td>\n",
       "      <td>44.0</td>\n",
       "      <td>0.99522</td>\n",
       "      <td>3.42</td>\n",
       "      <td>0.68</td>\n",
       "      <td>10.8</td>\n",
       "      <td>6</td>\n",
       "    </tr>\n",
       "  </tbody>\n",
       "</table>\n",
       "</div>"
      ],
      "text/plain": [
       "      fixed acidity  volatile acidity  citric acid  residual sugar  chlorides  \\\n",
       "147             7.6             0.490         0.26             1.6      0.236   \n",
       "1213            9.6             0.380         0.42             1.9      0.071   \n",
       "954             7.6             0.430         0.40             2.7      0.082   \n",
       "752             7.6             0.540         0.13             2.5      0.097   \n",
       "802             5.1             0.585         0.00             1.7      0.044   \n",
       "80              6.2             0.450         0.20             1.6      0.069   \n",
       "1226            7.5             0.580         0.03             4.1      0.080   \n",
       "13              7.8             0.610         0.29             1.6      0.114   \n",
       "21              7.6             0.390         0.31             2.3      0.082   \n",
       "1171            7.1             0.590         0.00             2.2      0.078   \n",
       "\n",
       "      free sulfur dioxide  total sulfur dioxide  density    pH  sulphates  \\\n",
       "147                  10.0                  88.0  0.99680  3.11       0.80   \n",
       "1213                  5.0                  13.0  0.99659  3.15       0.75   \n",
       "954                   6.0                  11.0  0.99538  3.44       0.54   \n",
       "752                  24.0                  66.0  0.99785  3.39       0.61   \n",
       "802                  14.0                  86.0  0.99264  3.56       0.94   \n",
       "80                    3.0                  15.0  0.99580  3.41       0.56   \n",
       "1226                 27.0                  46.0  0.99592  3.02       0.47   \n",
       "13                    9.0                  29.0  0.99740  3.26       1.56   \n",
       "21                   23.0                  71.0  0.99820  3.52       0.65   \n",
       "1171                 26.0                  44.0  0.99522  3.42       0.68   \n",
       "\n",
       "      alcohol  quality  \n",
       "147       9.3        5  \n",
       "1213     10.5        6  \n",
       "954      12.2        6  \n",
       "752       9.4        5  \n",
       "802      12.9        7  \n",
       "80        9.2        5  \n",
       "1226      9.2        5  \n",
       "13        9.1        5  \n",
       "21        9.7        5  \n",
       "1171     10.8        6  "
      ]
     },
     "execution_count": 3,
     "metadata": {},
     "output_type": "execute_result"
    }
   ],
   "source": [
    "df.sample(10)"
   ]
  },
  {
   "cell_type": "markdown",
   "metadata": {},
   "source": [
    "## Separar los datos en train + test (80% - 20%)"
   ]
  },
  {
   "cell_type": "code",
   "execution_count": 4,
   "metadata": {},
   "outputs": [],
   "source": [
    "X_train, X_test, Y_train, Y_test = train_test_split(df.drop(columns=[\"quality\"]),\n",
    "                                                    df['quality'],\n",
    "                                                    test_size = 0.2,\n",
    "                                                    random_state=0)"
   ]
  },
  {
   "cell_type": "markdown",
   "metadata": {},
   "source": [
    "## Entrerna un RandomForestRegressor como modelo para predecir la calidad del vino"
   ]
  },
  {
   "cell_type": "code",
   "execution_count": 5,
   "metadata": {},
   "outputs": [
    {
     "data": {
      "text/plain": [
       "RandomForestRegressor(max_depth=4, random_state=0)"
      ]
     },
     "execution_count": 5,
     "metadata": {},
     "output_type": "execute_result"
    }
   ],
   "source": [
    "model = RandomForestRegressor(n_estimators=100,\n",
    "                              max_depth=4,\n",
    "                              random_state=0)\n",
    "model.fit(X_train, Y_train)"
   ]
  },
  {
   "cell_type": "markdown",
   "metadata": {},
   "source": [
    "## Evalua in-sample y out-of-sample para comprobar que no estamos cometiendo overfitting"
   ]
  },
  {
   "cell_type": "code",
   "execution_count": 6,
   "metadata": {},
   "outputs": [],
   "source": [
    "y_pred_train = model.predict(X_train)\n",
    "y_pred_test = model.predict(X_test)\n",
    "\n",
    "mae_in_sample = np.sqrt(mean_squared_error(y_true=Y_train, y_pred=y_pred_train))\n",
    "mae_out_of_sample = np.sqrt(mean_squared_error(y_true=Y_test, y_pred=y_pred_test))"
   ]
  },
  {
   "cell_type": "code",
   "execution_count": 7,
   "metadata": {},
   "outputs": [
    {
     "name": "stdout",
     "output_type": "stream",
     "text": [
      "In sample error: 0.5828281978388418\n",
      "Out sample error: 0.6227846774322444\n"
     ]
    }
   ],
   "source": [
    "print(f'In sample error: {mae_in_sample}')\n",
    "print(f'Out sample error: {mae_out_of_sample}')"
   ]
  },
  {
   "cell_type": "markdown",
   "metadata": {},
   "source": [
    "## Visualiza la importancia de las características que devuelve el `Random Forest`"
   ]
  },
  {
   "cell_type": "code",
   "execution_count": 8,
   "metadata": {},
   "outputs": [],
   "source": [
    "importances = model.feature_importances_\n",
    "features = X_train.columns\n",
    "\n",
    "feat_importance = pd.DataFrame({'feature': features, 'importance': importances})"
   ]
  },
  {
   "cell_type": "code",
   "execution_count": 9,
   "metadata": {},
   "outputs": [
    {
     "data": {
      "text/plain": [
       "<AxesSubplot:ylabel='feature'>"
      ]
     },
     "execution_count": 9,
     "metadata": {},
     "output_type": "execute_result"
    },
    {
     "data": {
      "image/png": "[encoded data removed]",
      "text/plain": [
       "<Figure size 432x288 with 1 Axes>"
      ]
     },
     "metadata": {
      "needs_background": "light"
     },
     "output_type": "display_data"
    }
   ],
   "source": [
    "feat_importance.set_index('feature')['importance'].sort_values().plot(kind='barh')"
   ]
  },
  {
   "cell_type": "markdown",
   "metadata": {},
   "source": [
    "# Inspección de modelo usando SHAP"
   ]
  },
  {
   "cell_type": "markdown",
   "metadata": {},
   "source": [
    "Ahora vamos a ver lo que podemos obtener con SHAP, y si en primera instancia los valores son similares:"
   ]
  },
  {
   "cell_type": "code",
   "execution_count": 10,
   "metadata": {},
   "outputs": [],
   "source": [
    "explainer = shap.Explainer(model=model)"
   ]
  },
  {
   "cell_type": "code",
   "execution_count": 11,
   "metadata": {},
   "outputs": [],
   "source": [
    "shap_values = explainer(X_train)"
   ]
  },
  {
   "cell_type": "markdown",
   "metadata": {},
   "source": [
    "## Feature importance"
   ]
  },
  {
   "cell_type": "code",
   "execution_count": 12,
   "metadata": {},
   "outputs": [
    {
     "data": {
      "image/png": "[encoded data removed]",
      "text/plain": [
       "<Figure size 576x468 with 1 Axes>"
      ]
     },
     "metadata": {},
     "output_type": "display_data"
    }
   ],
   "source": [
    "shap.plots.bar(shap_values)"
   ]
  },
  {
   "cell_type": "markdown",
   "metadata": {},
   "source": [
    "Vemos algún cambio menor, pero en lineas generales los valores son similares, pero de momento, no estamos ganando nada con respecto a la importancia de las variables que nos otorga RandomForest.\n",
    "\n",
    "Una cosa que podemos hacer con SHAP es obtener el signo del impacto, es decir, saber si las variables tienen un impacto positivo o negativo en el resultado final, vamos a verlo: "
   ]
  },
  {
   "cell_type": "markdown",
   "metadata": {},
   "source": [
    "## Summary plot"
   ]
  },
  {
   "cell_type": "code",
   "execution_count": 13,
   "metadata": {},
   "outputs": [
    {
     "data": {
      "image/png": "[encoded data removed]",
      "text/plain": [
       "<Figure size 576x424.8 with 2 Axes>"
      ]
     },
     "metadata": {
      "needs_background": "light"
     },
     "output_type": "display_data"
    }
   ],
   "source": [
    "shap.summary_plot(shap_values=shap_values)"
   ]
  },
  {
   "cell_type": "markdown",
   "metadata": {},
   "source": [
    "En este grafico podemos ver la siguiente información: \n",
    "\n",
    "- El eje vertical muestra la importancia de la variable \n",
    "- El eje horizontal muestra el efecto de cada punto para la predicción\n",
    "- El color muestra si el valor de la variable fue alto o bajo\n",
    "\n",
    "De este modo podemos empezar a entender nuestro modelo, sabiendo por ejemplo que un buen vino tiene: \n",
    "\n",
    "  - Alto contenido en alcohol\n",
    "  - Alto contenido en sulfatos\n",
    "  - Baja volatilidad con la acided\n",
    "  - Bajo ph\n",
    "  - ..."
   ]
  },
  {
   "cell_type": "markdown",
   "metadata": {},
   "source": [
    "Pero todavía podemos ir mas allá y entender los impactos directos de cada una de las features a una predicción.."
   ]
  },
  {
   "cell_type": "code",
   "execution_count": 14,
   "metadata": {},
   "outputs": [
    {
     "data": {
      "text/html": [
       "\n",
       "<div id='iOZKLE3RPV08N73E55RUY'>\n",
       "<div style='color: #900; text-align: center;'>\n",
       "  <b>Visualization omitted, Javascript library not loaded!</b><br>\n",
       "  Have you run `initjs()` in this notebook? If this notebook was from another\n",
       "  user you must also trust this notebook (File -> Trust notebook). If you are viewing\n",
       "  this notebook on github the Javascript has been stripped for security. If you are using\n",
       "  JupyterLab this error is because a JupyterLab extension has not yet been written.\n",
       "</div></div>\n",
       " <script>\n",
       "   if (window.SHAP) SHAP.ReactDom.render(\n",
       "    SHAP.React.createElement(SHAP.AdditiveForceVisualizer, {\"outNames\": [\"f(x)\"], \"baseValue\": 5.645527756059423, \"outValue\": 5.39348868253341, \"link\": \"identity\", \"featureNames\": [\"fixed acidity\", \"volatile acidity\", \"citric acid\", \"residual sugar\", \"chlorides\", \"free sulfur dioxide\", \"total sulfur dioxide\", \"density\", \"pH\", \"sulphates\", \"alcohol\"], \"features\": {\"0\": {\"effect\": -0.0011446089999700073, \"value\": 9.9}, \"1\": {\"effect\": -0.02318355498175453, \"value\": 0.54}, \"2\": {\"effect\": -0.00216467740246281, \"value\": 0.45}, \"3\": {\"effect\": 0.0009220921833065802, \"value\": 2.3}, \"4\": {\"effect\": 0.0036002844201692146, \"value\": 0.071}, \"5\": {\"effect\": 0.00010302056657670493, \"value\": 16.0}, \"6\": {\"effect\": 0.03592932133000888, \"value\": 40.0}, \"7\": {\"effect\": -0.003472384795571515, \"value\": 0.9991}, \"8\": {\"effect\": -0.00058935768592251, \"value\": 3.39}, \"9\": {\"effect\": -0.006945391173383899, \"value\": 0.62}, \"10\": {\"effect\": -0.25509381698700856, \"value\": 9.4}}, \"plot_cmap\": \"RdBu\", \"labelMargin\": 20}),\n",
       "    document.getElementById('iOZKLE3RPV08N73E55RUY')\n",
       "  );\n",
       "</script>"
      ],
      "text/plain": [
       "<shap.plots._force.AdditiveForceVisualizer at 0x7f980e8419d0>"
      ]
     },
     "execution_count": 14,
     "metadata": {},
     "output_type": "execute_result"
    }
   ],
   "source": [
    "shap.plots.force(shap_values[0])  ## el indice es el numero de linea del ejemplo del dataset"
   ]
  }
 ],
 "metadata": {
  "kernelspec": {
   "display_name": "uib",
   "language": "python",
   "name": "uib"
  },
  "language_info": {
   "codemirror_mode": {
    "name": "ipython",
    "version": 3
   },
   "file_extension": ".py",
   "mimetype": "text/x-python",
   "name": "python",
   "nbconvert_exporter": "python",
   "pygments_lexer": "ipython3",
   "version": "3.9.7"
  }
 },
 "nbformat": 4,
 "nbformat_minor": 4
}
